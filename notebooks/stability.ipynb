{
 "cells": [
  {
   "cell_type": "markdown",
   "metadata": {},
   "source": [
    "# Stability analysis\n",
    "\n",
    "## Single-valued ODE\n",
    "\n",
    "Consider the ODE\n",
    "$$\n",
    "\\frac{d x}{d t} = f(t, x).\n",
    "$$\n",
    "\n",
    "The equilibrium $x^*$ is the solution to\n",
    "$$\n",
    "f(t, x^*) = 0.\n",
    "$$"
   ]
  },
  {
   "cell_type": "markdown",
   "metadata": {},
   "source": [
    "$x^*$ is **locally stable** if there exists $\\delta > 0$ such that if $|x(0) - x^*| < \\delta$ then $x(t) \\to x^*$."
   ]
  },
  {
   "cell_type": "markdown",
   "metadata": {},
   "source": [
    "Denote $\\epsilon(t) = x(t) - x^*(t)$, then by definition of $x^*$,\n",
    "$$\n",
    "\\frac{d \\epsilon}{d t} = \\frac{d}{d t} x(t) - x^*(t) = \\\\ \n",
    "\\frac{d x}{dt} = f(t, x).\n",
    "$$\n",
    "\n",
    "We use a linear approximation (i.e. Taylor expansion) of $f(t, x)$ around $x^*$, we have (up to terms of order $\\epsilon(t)^2$):\n",
    "$$\n",
    "\\frac{d \\epsilon}{d t} = f(t, x) \\approx \\\\\n",
    "f(t, x^*) + \\frac{d f}{d x}(x^*) \\cdot \\epsilon(t)  = \\\\\n",
    "\\frac{d f}{d x}(x^*) \\cdot \\epsilon(t) = \n",
    "\\frac{d^2 x}{d t d x}(x^*) \\cdot \\epsilon(t).\n",
    "$$"
   ]
  },
  {
   "cell_type": "markdown",
   "metadata": {},
   "source": [
    "Denoting $\\lambda = \\frac{d^2 x}{d t d x}(x^*)$ and integrating, we now have\n",
    "$$\n",
    "\\epsilon(t) = \\epsilon(0) e^{\\lambda t} = x^* e^{\\lambda t}.\n",
    "$$\n",
    "\n",
    "Therefore, if $\\lambda < 0$ then $\\epsilon(t) \\to x^*$.\n",
    "\n",
    "See also Otto and Day, Recipe 5.3 Case C (cases A and B are for discrete time dynamics)."
   ]
  },
  {
   "cell_type": "markdown",
   "metadata": {},
   "source": [
    "## Multi-valued ODE\n",
    "\n",
    "Now $x(t) = (x_1(t), x_2(t), \\ldots, x_n(t)) \\in \\mathbb{R}^n$ and the ODE is given by\n",
    "$$\n",
    "\\frac{d x}{dt} = F(t, x).\n",
    "$$\n",
    "\n",
    "The equilibrium $x^*$ is a solution to\n",
    "$$\n",
    "F(t, x^*) = 0.\n",
    "$$"
   ]
  },
  {
   "cell_type": "markdown",
   "metadata": {},
   "source": [
    "Given a small perturbation $\\epsilon(t) = x(t) - x^*$, we again have\n",
    "$$\n",
    "\\frac{d \\epsilon}{d t} = \\ldots = F(t, x).\n",
    "$$"
   ]
  },
  {
   "cell_type": "markdown",
   "metadata": {},
   "source": [
    "We again do a linearization of $F(t,\\bar{x})$ around $\\bar{x}^*$.\n",
    "For that we use the Jacobian,\n",
    "$$\n",
    "J(x) = \\pmatrix{\n",
    "\\frac{\\partial F_1}{\\partial x_1} & \\ldots & \\frac{\\partial F_1}{\\partial x_n}\\\\\n",
    "\\ldots & \\ldots & \\ldots \\\\\n",
    "\\frac{\\partial F_n}{\\partial x_1} & \\ldots & \\frac{\\partial F_n}{\\partial x_n}\n",
    "},\n",
    "$$\n",
    "where $F_n(t,x) = \\frac{d x_n}{d t}$.\n",
    "\n",
    "Then $J^* = J(x^*$), and using a Taylor series around $x^*$ we have\n",
    "$$\n",
    "\\frac{d \\epsilon}{d t} = F(t, x^*) + J^* \\cdot \\epsilon = J^* \\cdot \\epsilon,\n",
    "$$\n",
    "by definition of $x^*$."
   ]
  },
  {
   "cell_type": "markdown",
   "metadata": {},
   "source": [
    "We show that $\\epsilon(t) = c_1 v_1 e^{\\lambda_1 t} + \\ldots + c_n v_n e^{\\lambda_n t}$ such that $v_k$ and $\\lambda_k$ are eigenvectors and eigenvalues of $J^*$, respectively, solves $ d\\epsilon / d t=J^* \\epsilon(t)$:\n",
    "$$\n",
    "\\lambda_1 c_1 v_1 e^{\\lambda_1 t} + \\ldots + \\lambda_n c_n v_n e^{\\lambda_n t} = \n",
    "J^* c_1 v_1 e^{\\lambda_1 t} + \\ldots + J^* c_n v_n e^{\\lambda_n t}.\n",
    "$$"
   ]
  },
  {
   "cell_type": "markdown",
   "metadata": {},
   "source": [
    "Note that the eigenvalues can be complex, for example $\\lambda_k=a+bi$.\n",
    "However,\n",
    "$$\n",
    "e^{at+bti} = e^{at} \\cdot e^{bti} = \n",
    "e^{at} \\cdot \\big( cos(bt) + i sin(bt) \\big),\n",
    "$$\n",
    "due to Euler's formula, and therefore only the real part $a$ affects the distance of $\\epsilon(t)$ from the origin, i.e. the size of the perturbation.\n",
    "\n",
    "Therefore, if the real parts of all the eigenvalues are negative then \n",
    "$$\n",
    "\\epsilon(t) = c_1 v_1 e^{\\lambda_1 t} + \\ldots + c_n v_n e^{\\lambda_n t} \\to 0,\n",
    "$$\n",
    "and $x^*$ is locally stable."
   ]
  }
 ],
 "metadata": {
  "kernelspec": {
   "display_name": "Python [default]",
   "language": "python",
   "name": "python3"
  },
  "language_info": {
   "codemirror_mode": {
    "name": "ipython",
    "version": 3
   },
   "file_extension": ".py",
   "mimetype": "text/x-python",
   "name": "python",
   "nbconvert_exporter": "python",
   "pygments_lexer": "ipython3",
   "version": "3.6.5"
  }
 },
 "nbformat": 4,
 "nbformat_minor": 2
}
