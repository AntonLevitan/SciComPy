{
 "cells": [
  {
   "cell_type": "markdown",
   "metadata": {},
   "source": [
    "# Population growth\n",
    "## Computational Science with Python\n",
    "## Yoav Ram"
   ]
  },
  {
   "cell_type": "code",
   "execution_count": 110,
   "metadata": {},
   "outputs": [],
   "source": [
    "import urllib.request\n",
    "import os.path\n",
    "import zipfile\n",
    "\n",
    "%matplotlib inline\n",
    "from IPython.display import HTML\n",
    "import numpy as np\n",
    "import matplotlib.pyplot as plt\n",
    "import pandas as pd\n",
    "import seaborn as sns\n",
    "sns.set_context('talk')\n",
    "\n",
    "import scipy\n",
    "from scipy.integrate import odeint\n",
    "from scipy.optimize import curve_fit\n",
    "from scipy.stats import linregress\n",
    "\n",
    "import statsmodels.api as sm"
   ]
  },
  {
   "cell_type": "markdown",
   "metadata": {},
   "source": [
    "Our focus todays will be on modeling population growth. \n",
    "We will start with human populations and use data from the [World Bank](http://www.worldbank.org/) on the [population size of countries](http://data.worldbank.org/indicator/SP.POP.TOTL) around the world from 1960 until 2013.\n",
    "\n",
    "# Data preparation - World Bank"
   ]
  },
  {
   "cell_type": "markdown",
   "metadata": {},
   "source": [
    "> In Data Science, 80% of time spent prepare data, 20% of time spent complain about need for prepare data.\n",
    "    — [Big Data Borat](https://twitter.com/BigDataBorat/status/306596352991830016\") (@BigDataBorat) February 27, 2013\n",
    "\n",
    "So let's prepare the data from *scratch*.\n",
    "\n",
    "Start by retrieving the data as a zip file (if not already downloaded). Follow the link to the World Bank page on [Population, total](http://data.worldbank.org/indicator/SP.POP.TOTL), click `DOWNLOAD DATA`, choose `CSV`, a zip file will be downloaded.  \n",
    "\n",
    "Even better, click the `CSV` button with the right button and click `Copy link address` in the context menu. This link can be used to get the file directly from Python using `urllib`:"
   ]
  },
  {
   "cell_type": "code",
   "execution_count": 2,
   "metadata": {},
   "outputs": [
    {
     "name": "stdout",
     "output_type": "stream",
     "text": [
      "../data/world_growth.zip exists: True\n"
     ]
    }
   ],
   "source": [
    "fname = r'../data/world_growth.zip'\n",
    "url = 'http://api.worldbank.org/v2/en/indicator/SP.POP.TOTL?downloadformat=csv'\n",
    "\n",
    "if not os.path.exists(fname):\n",
    "    urllib.request.urlretrieve(url, fname)\n",
    "print(fname, 'exists:', os.path.exists(fname))"
   ]
  },
  {
   "cell_type": "markdown",
   "metadata": {},
   "source": [
    "Open the file using the zipfile module and read it using Pandas, skipping the first two rows and dropping the columns that have `NaN` values:"
   ]
  },
  {
   "cell_type": "code",
   "execution_count": 3,
   "metadata": {},
   "outputs": [
    {
     "name": "stdout",
     "output_type": "stream",
     "text": [
      "Metadata_Indicator_API_SP.POP.TOTL_DS2_en_csv_v2.csv\n",
      "API_SP.POP.TOTL_DS2_en_csv_v2.csv\n",
      "Metadata_Country_API_SP.POP.TOTL_DS2_en_csv_v2.csv\n"
     ]
    }
   ],
   "source": [
    "with zipfile.ZipFile(fname) as z:\n",
    "    for f in z.filelist:\n",
    "        print(f.filename)"
   ]
  },
  {
   "cell_type": "code",
   "execution_count": 4,
   "metadata": {
    "scrolled": true
   },
   "outputs": [
    {
     "data": {
      "text/html": [
       "<div>\n",
       "<style scoped>\n",
       "    .dataframe tbody tr th:only-of-type {\n",
       "        vertical-align: middle;\n",
       "    }\n",
       "\n",
       "    .dataframe tbody tr th {\n",
       "        vertical-align: top;\n",
       "    }\n",
       "\n",
       "    .dataframe thead th {\n",
       "        text-align: right;\n",
       "    }\n",
       "</style>\n",
       "<table border=\"1\" class=\"dataframe\">\n",
       "  <thead>\n",
       "    <tr style=\"text-align: right;\">\n",
       "      <th></th>\n",
       "      <th>Country Name</th>\n",
       "      <th>Country Code</th>\n",
       "      <th>Indicator Name</th>\n",
       "      <th>Indicator Code</th>\n",
       "      <th>1960</th>\n",
       "      <th>1961</th>\n",
       "      <th>1962</th>\n",
       "      <th>1963</th>\n",
       "      <th>1964</th>\n",
       "      <th>1965</th>\n",
       "      <th>...</th>\n",
       "      <th>2009</th>\n",
       "      <th>2010</th>\n",
       "      <th>2011</th>\n",
       "      <th>2012</th>\n",
       "      <th>2013</th>\n",
       "      <th>2014</th>\n",
       "      <th>2015</th>\n",
       "      <th>2016</th>\n",
       "      <th>2017</th>\n",
       "      <th>Unnamed: 62</th>\n",
       "    </tr>\n",
       "  </thead>\n",
       "  <tbody>\n",
       "    <tr>\n",
       "      <th>0</th>\n",
       "      <td>Aruba</td>\n",
       "      <td>ABW</td>\n",
       "      <td>Population, total</td>\n",
       "      <td>SP.POP.TOTL</td>\n",
       "      <td>54211.0</td>\n",
       "      <td>55438.0</td>\n",
       "      <td>56225.0</td>\n",
       "      <td>56695.0</td>\n",
       "      <td>57032.0</td>\n",
       "      <td>57360.0</td>\n",
       "      <td>...</td>\n",
       "      <td>101453.0</td>\n",
       "      <td>101669.0</td>\n",
       "      <td>102053.0</td>\n",
       "      <td>102577.0</td>\n",
       "      <td>103187.0</td>\n",
       "      <td>103795.0</td>\n",
       "      <td>104341.0</td>\n",
       "      <td>104822.0</td>\n",
       "      <td>NaN</td>\n",
       "      <td>NaN</td>\n",
       "    </tr>\n",
       "    <tr>\n",
       "      <th>1</th>\n",
       "      <td>Afghanistan</td>\n",
       "      <td>AFG</td>\n",
       "      <td>Population, total</td>\n",
       "      <td>SP.POP.TOTL</td>\n",
       "      <td>8996351.0</td>\n",
       "      <td>9166764.0</td>\n",
       "      <td>9345868.0</td>\n",
       "      <td>9533954.0</td>\n",
       "      <td>9731361.0</td>\n",
       "      <td>9938414.0</td>\n",
       "      <td>...</td>\n",
       "      <td>28004331.0</td>\n",
       "      <td>28803167.0</td>\n",
       "      <td>29708599.0</td>\n",
       "      <td>30696958.0</td>\n",
       "      <td>31731688.0</td>\n",
       "      <td>32758020.0</td>\n",
       "      <td>33736494.0</td>\n",
       "      <td>34656032.0</td>\n",
       "      <td>NaN</td>\n",
       "      <td>NaN</td>\n",
       "    </tr>\n",
       "    <tr>\n",
       "      <th>2</th>\n",
       "      <td>Angola</td>\n",
       "      <td>AGO</td>\n",
       "      <td>Population, total</td>\n",
       "      <td>SP.POP.TOTL</td>\n",
       "      <td>5643182.0</td>\n",
       "      <td>5753024.0</td>\n",
       "      <td>5866061.0</td>\n",
       "      <td>5980417.0</td>\n",
       "      <td>6093321.0</td>\n",
       "      <td>6203299.0</td>\n",
       "      <td>...</td>\n",
       "      <td>22549547.0</td>\n",
       "      <td>23369131.0</td>\n",
       "      <td>24218565.0</td>\n",
       "      <td>25096150.0</td>\n",
       "      <td>25998340.0</td>\n",
       "      <td>26920466.0</td>\n",
       "      <td>27859305.0</td>\n",
       "      <td>28813463.0</td>\n",
       "      <td>NaN</td>\n",
       "      <td>NaN</td>\n",
       "    </tr>\n",
       "    <tr>\n",
       "      <th>3</th>\n",
       "      <td>Albania</td>\n",
       "      <td>ALB</td>\n",
       "      <td>Population, total</td>\n",
       "      <td>SP.POP.TOTL</td>\n",
       "      <td>1608800.0</td>\n",
       "      <td>1659800.0</td>\n",
       "      <td>1711319.0</td>\n",
       "      <td>1762621.0</td>\n",
       "      <td>1814135.0</td>\n",
       "      <td>1864791.0</td>\n",
       "      <td>...</td>\n",
       "      <td>2927519.0</td>\n",
       "      <td>2913021.0</td>\n",
       "      <td>2905195.0</td>\n",
       "      <td>2900401.0</td>\n",
       "      <td>2895092.0</td>\n",
       "      <td>2889104.0</td>\n",
       "      <td>2880703.0</td>\n",
       "      <td>2876101.0</td>\n",
       "      <td>NaN</td>\n",
       "      <td>NaN</td>\n",
       "    </tr>\n",
       "    <tr>\n",
       "      <th>4</th>\n",
       "      <td>Andorra</td>\n",
       "      <td>AND</td>\n",
       "      <td>Population, total</td>\n",
       "      <td>SP.POP.TOTL</td>\n",
       "      <td>13411.0</td>\n",
       "      <td>14375.0</td>\n",
       "      <td>15370.0</td>\n",
       "      <td>16412.0</td>\n",
       "      <td>17469.0</td>\n",
       "      <td>18549.0</td>\n",
       "      <td>...</td>\n",
       "      <td>84462.0</td>\n",
       "      <td>84449.0</td>\n",
       "      <td>83751.0</td>\n",
       "      <td>82431.0</td>\n",
       "      <td>80788.0</td>\n",
       "      <td>79223.0</td>\n",
       "      <td>78014.0</td>\n",
       "      <td>77281.0</td>\n",
       "      <td>NaN</td>\n",
       "      <td>NaN</td>\n",
       "    </tr>\n",
       "  </tbody>\n",
       "</table>\n",
       "<p>5 rows × 63 columns</p>\n",
       "</div>"
      ],
      "text/plain": [
       "  Country Name Country Code     Indicator Name Indicator Code       1960  \\\n",
       "0        Aruba          ABW  Population, total    SP.POP.TOTL    54211.0   \n",
       "1  Afghanistan          AFG  Population, total    SP.POP.TOTL  8996351.0   \n",
       "2       Angola          AGO  Population, total    SP.POP.TOTL  5643182.0   \n",
       "3      Albania          ALB  Population, total    SP.POP.TOTL  1608800.0   \n",
       "4      Andorra          AND  Population, total    SP.POP.TOTL    13411.0   \n",
       "\n",
       "        1961       1962       1963       1964       1965     ...       \\\n",
       "0    55438.0    56225.0    56695.0    57032.0    57360.0     ...        \n",
       "1  9166764.0  9345868.0  9533954.0  9731361.0  9938414.0     ...        \n",
       "2  5753024.0  5866061.0  5980417.0  6093321.0  6203299.0     ...        \n",
       "3  1659800.0  1711319.0  1762621.0  1814135.0  1864791.0     ...        \n",
       "4    14375.0    15370.0    16412.0    17469.0    18549.0     ...        \n",
       "\n",
       "         2009        2010        2011        2012        2013        2014  \\\n",
       "0    101453.0    101669.0    102053.0    102577.0    103187.0    103795.0   \n",
       "1  28004331.0  28803167.0  29708599.0  30696958.0  31731688.0  32758020.0   \n",
       "2  22549547.0  23369131.0  24218565.0  25096150.0  25998340.0  26920466.0   \n",
       "3   2927519.0   2913021.0   2905195.0   2900401.0   2895092.0   2889104.0   \n",
       "4     84462.0     84449.0     83751.0     82431.0     80788.0     79223.0   \n",
       "\n",
       "         2015        2016  2017  Unnamed: 62  \n",
       "0    104341.0    104822.0   NaN          NaN  \n",
       "1  33736494.0  34656032.0   NaN          NaN  \n",
       "2  27859305.0  28813463.0   NaN          NaN  \n",
       "3   2880703.0   2876101.0   NaN          NaN  \n",
       "4     78014.0     77281.0   NaN          NaN  \n",
       "\n",
       "[5 rows x 63 columns]"
      ]
     },
     "execution_count": 4,
     "metadata": {},
     "output_type": "execute_result"
    }
   ],
   "source": [
    "with zipfile.ZipFile(fname) as z:\n",
    "    f = z.open('API_SP.POP.TOTL_DS2_en_csv_v2.csv')\n",
    "    df = pd.read_csv(f, skiprows=3)\n",
    "df.head()"
   ]
  },
  {
   "cell_type": "code",
   "execution_count": 5,
   "metadata": {},
   "outputs": [
    {
     "data": {
      "text/html": [
       "<div>\n",
       "<style scoped>\n",
       "    .dataframe tbody tr th:only-of-type {\n",
       "        vertical-align: middle;\n",
       "    }\n",
       "\n",
       "    .dataframe tbody tr th {\n",
       "        vertical-align: top;\n",
       "    }\n",
       "\n",
       "    .dataframe thead th {\n",
       "        text-align: right;\n",
       "    }\n",
       "</style>\n",
       "<table border=\"1\" class=\"dataframe\">\n",
       "  <thead>\n",
       "    <tr style=\"text-align: right;\">\n",
       "      <th></th>\n",
       "      <th>Country Name</th>\n",
       "      <th>Country Code</th>\n",
       "      <th>Indicator Name</th>\n",
       "      <th>Indicator Code</th>\n",
       "      <th>1960</th>\n",
       "      <th>1961</th>\n",
       "      <th>1962</th>\n",
       "      <th>1963</th>\n",
       "      <th>1964</th>\n",
       "      <th>1965</th>\n",
       "      <th>...</th>\n",
       "      <th>2007</th>\n",
       "      <th>2008</th>\n",
       "      <th>2009</th>\n",
       "      <th>2010</th>\n",
       "      <th>2011</th>\n",
       "      <th>2012</th>\n",
       "      <th>2013</th>\n",
       "      <th>2014</th>\n",
       "      <th>2015</th>\n",
       "      <th>2016</th>\n",
       "    </tr>\n",
       "  </thead>\n",
       "  <tbody>\n",
       "    <tr>\n",
       "      <th>0</th>\n",
       "      <td>Aruba</td>\n",
       "      <td>ABW</td>\n",
       "      <td>Population, total</td>\n",
       "      <td>SP.POP.TOTL</td>\n",
       "      <td>54211.0</td>\n",
       "      <td>55438.0</td>\n",
       "      <td>56225.0</td>\n",
       "      <td>56695.0</td>\n",
       "      <td>57032.0</td>\n",
       "      <td>57360.0</td>\n",
       "      <td>...</td>\n",
       "      <td>101220.0</td>\n",
       "      <td>101353.0</td>\n",
       "      <td>101453.0</td>\n",
       "      <td>101669.0</td>\n",
       "      <td>102053.0</td>\n",
       "      <td>102577.0</td>\n",
       "      <td>103187.0</td>\n",
       "      <td>103795.0</td>\n",
       "      <td>104341.0</td>\n",
       "      <td>104822.0</td>\n",
       "    </tr>\n",
       "    <tr>\n",
       "      <th>1</th>\n",
       "      <td>Afghanistan</td>\n",
       "      <td>AFG</td>\n",
       "      <td>Population, total</td>\n",
       "      <td>SP.POP.TOTL</td>\n",
       "      <td>8996351.0</td>\n",
       "      <td>9166764.0</td>\n",
       "      <td>9345868.0</td>\n",
       "      <td>9533954.0</td>\n",
       "      <td>9731361.0</td>\n",
       "      <td>9938414.0</td>\n",
       "      <td>...</td>\n",
       "      <td>26616792.0</td>\n",
       "      <td>27294031.0</td>\n",
       "      <td>28004331.0</td>\n",
       "      <td>28803167.0</td>\n",
       "      <td>29708599.0</td>\n",
       "      <td>30696958.0</td>\n",
       "      <td>31731688.0</td>\n",
       "      <td>32758020.0</td>\n",
       "      <td>33736494.0</td>\n",
       "      <td>34656032.0</td>\n",
       "    </tr>\n",
       "    <tr>\n",
       "      <th>2</th>\n",
       "      <td>Angola</td>\n",
       "      <td>AGO</td>\n",
       "      <td>Population, total</td>\n",
       "      <td>SP.POP.TOTL</td>\n",
       "      <td>5643182.0</td>\n",
       "      <td>5753024.0</td>\n",
       "      <td>5866061.0</td>\n",
       "      <td>5980417.0</td>\n",
       "      <td>6093321.0</td>\n",
       "      <td>6203299.0</td>\n",
       "      <td>...</td>\n",
       "      <td>20997687.0</td>\n",
       "      <td>21759420.0</td>\n",
       "      <td>22549547.0</td>\n",
       "      <td>23369131.0</td>\n",
       "      <td>24218565.0</td>\n",
       "      <td>25096150.0</td>\n",
       "      <td>25998340.0</td>\n",
       "      <td>26920466.0</td>\n",
       "      <td>27859305.0</td>\n",
       "      <td>28813463.0</td>\n",
       "    </tr>\n",
       "    <tr>\n",
       "      <th>3</th>\n",
       "      <td>Albania</td>\n",
       "      <td>ALB</td>\n",
       "      <td>Population, total</td>\n",
       "      <td>SP.POP.TOTL</td>\n",
       "      <td>1608800.0</td>\n",
       "      <td>1659800.0</td>\n",
       "      <td>1711319.0</td>\n",
       "      <td>1762621.0</td>\n",
       "      <td>1814135.0</td>\n",
       "      <td>1864791.0</td>\n",
       "      <td>...</td>\n",
       "      <td>2970017.0</td>\n",
       "      <td>2947314.0</td>\n",
       "      <td>2927519.0</td>\n",
       "      <td>2913021.0</td>\n",
       "      <td>2905195.0</td>\n",
       "      <td>2900401.0</td>\n",
       "      <td>2895092.0</td>\n",
       "      <td>2889104.0</td>\n",
       "      <td>2880703.0</td>\n",
       "      <td>2876101.0</td>\n",
       "    </tr>\n",
       "    <tr>\n",
       "      <th>4</th>\n",
       "      <td>Andorra</td>\n",
       "      <td>AND</td>\n",
       "      <td>Population, total</td>\n",
       "      <td>SP.POP.TOTL</td>\n",
       "      <td>13411.0</td>\n",
       "      <td>14375.0</td>\n",
       "      <td>15370.0</td>\n",
       "      <td>16412.0</td>\n",
       "      <td>17469.0</td>\n",
       "      <td>18549.0</td>\n",
       "      <td>...</td>\n",
       "      <td>82683.0</td>\n",
       "      <td>83861.0</td>\n",
       "      <td>84462.0</td>\n",
       "      <td>84449.0</td>\n",
       "      <td>83751.0</td>\n",
       "      <td>82431.0</td>\n",
       "      <td>80788.0</td>\n",
       "      <td>79223.0</td>\n",
       "      <td>78014.0</td>\n",
       "      <td>77281.0</td>\n",
       "    </tr>\n",
       "  </tbody>\n",
       "</table>\n",
       "<p>5 rows × 61 columns</p>\n",
       "</div>"
      ],
      "text/plain": [
       "  Country Name Country Code     Indicator Name Indicator Code       1960  \\\n",
       "0        Aruba          ABW  Population, total    SP.POP.TOTL    54211.0   \n",
       "1  Afghanistan          AFG  Population, total    SP.POP.TOTL  8996351.0   \n",
       "2       Angola          AGO  Population, total    SP.POP.TOTL  5643182.0   \n",
       "3      Albania          ALB  Population, total    SP.POP.TOTL  1608800.0   \n",
       "4      Andorra          AND  Population, total    SP.POP.TOTL    13411.0   \n",
       "\n",
       "        1961       1962       1963       1964       1965     ...      \\\n",
       "0    55438.0    56225.0    56695.0    57032.0    57360.0     ...       \n",
       "1  9166764.0  9345868.0  9533954.0  9731361.0  9938414.0     ...       \n",
       "2  5753024.0  5866061.0  5980417.0  6093321.0  6203299.0     ...       \n",
       "3  1659800.0  1711319.0  1762621.0  1814135.0  1864791.0     ...       \n",
       "4    14375.0    15370.0    16412.0    17469.0    18549.0     ...       \n",
       "\n",
       "         2007        2008        2009        2010        2011        2012  \\\n",
       "0    101220.0    101353.0    101453.0    101669.0    102053.0    102577.0   \n",
       "1  26616792.0  27294031.0  28004331.0  28803167.0  29708599.0  30696958.0   \n",
       "2  20997687.0  21759420.0  22549547.0  23369131.0  24218565.0  25096150.0   \n",
       "3   2970017.0   2947314.0   2927519.0   2913021.0   2905195.0   2900401.0   \n",
       "4     82683.0     83861.0     84462.0     84449.0     83751.0     82431.0   \n",
       "\n",
       "         2013        2014        2015        2016  \n",
       "0    103187.0    103795.0    104341.0    104822.0  \n",
       "1  31731688.0  32758020.0  33736494.0  34656032.0  \n",
       "2  25998340.0  26920466.0  27859305.0  28813463.0  \n",
       "3   2895092.0   2889104.0   2880703.0   2876101.0  \n",
       "4     80788.0     79223.0     78014.0     77281.0  \n",
       "\n",
       "[5 rows x 61 columns]"
      ]
     },
     "execution_count": 5,
     "metadata": {},
     "output_type": "execute_result"
    }
   ],
   "source": [
    "df.drop('2017', axis=1, inplace=True)\n",
    "df.drop('Unnamed: 62', axis=1, inplace=True)\n",
    "df.head()"
   ]
  },
  {
   "cell_type": "code",
   "execution_count": 65,
   "metadata": {
    "scrolled": true
   },
   "outputs": [
    {
     "data": {
      "text/plain": [
       "array(['Aruba', 'Afghanistan', 'Angola', 'Albania', 'Andorra',\n",
       "       'Arab World', 'United Arab Emirates', 'Argentina', 'Armenia',\n",
       "       'American Samoa'], dtype=object)"
      ]
     },
     "execution_count": 65,
     "metadata": {},
     "output_type": "execute_result"
    }
   ],
   "source": [
    "df['Country Name'].values[:10]"
   ]
  },
  {
   "cell_type": "markdown",
   "metadata": {},
   "source": [
    "We now want to **tidy our data** - transform the dataset to a **DataFrame** format:\n",
    "\n",
    "> Tidy datasets are easy to manipulate, model and visualize, and have a specific structure: each variable is a column, each observation is a row, and each type of observational unit is a table - [Hadley Wickham (2014), _Tidy Data_, J. Stat. Soft.](http://www.jstatsoft.org/v59/i10)\n",
    "\n",
    "\n",
    "This means that every row in the table has exactly one measurement - population size - with all the relevant variables - country name and year.\n",
    "Read more on [tidy data](http://www.jstatsoft.org/v59/i10).\n",
    "\n",
    "We do this using Pandas' `melt` function: "
   ]
  },
  {
   "cell_type": "code",
   "execution_count": 7,
   "metadata": {},
   "outputs": [
    {
     "name": "stdout",
     "output_type": "stream",
     "text": [
      "(264, 61)\n",
      "(15048, 6)\n"
     ]
    },
    {
     "data": {
      "text/html": [
       "<div>\n",
       "<style scoped>\n",
       "    .dataframe tbody tr th:only-of-type {\n",
       "        vertical-align: middle;\n",
       "    }\n",
       "\n",
       "    .dataframe tbody tr th {\n",
       "        vertical-align: top;\n",
       "    }\n",
       "\n",
       "    .dataframe thead th {\n",
       "        text-align: right;\n",
       "    }\n",
       "</style>\n",
       "<table border=\"1\" class=\"dataframe\">\n",
       "  <thead>\n",
       "    <tr style=\"text-align: right;\">\n",
       "      <th></th>\n",
       "      <th>Country Name</th>\n",
       "      <th>Country Code</th>\n",
       "      <th>Indicator Name</th>\n",
       "      <th>Indicator Code</th>\n",
       "      <th>Year</th>\n",
       "      <th>Population</th>\n",
       "    </tr>\n",
       "  </thead>\n",
       "  <tbody>\n",
       "    <tr>\n",
       "      <th>0</th>\n",
       "      <td>Aruba</td>\n",
       "      <td>ABW</td>\n",
       "      <td>Population, total</td>\n",
       "      <td>SP.POP.TOTL</td>\n",
       "      <td>1960</td>\n",
       "      <td>54211.0</td>\n",
       "    </tr>\n",
       "    <tr>\n",
       "      <th>1</th>\n",
       "      <td>Afghanistan</td>\n",
       "      <td>AFG</td>\n",
       "      <td>Population, total</td>\n",
       "      <td>SP.POP.TOTL</td>\n",
       "      <td>1960</td>\n",
       "      <td>8996351.0</td>\n",
       "    </tr>\n",
       "    <tr>\n",
       "      <th>2</th>\n",
       "      <td>Angola</td>\n",
       "      <td>AGO</td>\n",
       "      <td>Population, total</td>\n",
       "      <td>SP.POP.TOTL</td>\n",
       "      <td>1960</td>\n",
       "      <td>5643182.0</td>\n",
       "    </tr>\n",
       "    <tr>\n",
       "      <th>3</th>\n",
       "      <td>Albania</td>\n",
       "      <td>ALB</td>\n",
       "      <td>Population, total</td>\n",
       "      <td>SP.POP.TOTL</td>\n",
       "      <td>1960</td>\n",
       "      <td>1608800.0</td>\n",
       "    </tr>\n",
       "    <tr>\n",
       "      <th>4</th>\n",
       "      <td>Andorra</td>\n",
       "      <td>AND</td>\n",
       "      <td>Population, total</td>\n",
       "      <td>SP.POP.TOTL</td>\n",
       "      <td>1960</td>\n",
       "      <td>13411.0</td>\n",
       "    </tr>\n",
       "  </tbody>\n",
       "</table>\n",
       "</div>"
      ],
      "text/plain": [
       "  Country Name Country Code     Indicator Name Indicator Code  Year  \\\n",
       "0        Aruba          ABW  Population, total    SP.POP.TOTL  1960   \n",
       "1  Afghanistan          AFG  Population, total    SP.POP.TOTL  1960   \n",
       "2       Angola          AGO  Population, total    SP.POP.TOTL  1960   \n",
       "3      Albania          ALB  Population, total    SP.POP.TOTL  1960   \n",
       "4      Andorra          AND  Population, total    SP.POP.TOTL  1960   \n",
       "\n",
       "   Population  \n",
       "0     54211.0  \n",
       "1   8996351.0  \n",
       "2   5643182.0  \n",
       "3   1608800.0  \n",
       "4     13411.0  "
      ]
     },
     "execution_count": 7,
     "metadata": {},
     "output_type": "execute_result"
    }
   ],
   "source": [
    "print(df.shape)\n",
    "df = pd.melt(\n",
    "    df, \n",
    "    id_vars=('Country Name','Country Code','Indicator Name', 'Indicator Code'), \n",
    "    var_name='Year', \n",
    "    value_name='Population'\n",
    ")\n",
    "print(df.shape)\n",
    "df.head()"
   ]
  },
  {
   "cell_type": "code",
   "execution_count": 8,
   "metadata": {},
   "outputs": [
    {
     "data": {
      "text/html": [
       "<div>\n",
       "<style scoped>\n",
       "    .dataframe tbody tr th:only-of-type {\n",
       "        vertical-align: middle;\n",
       "    }\n",
       "\n",
       "    .dataframe tbody tr th {\n",
       "        vertical-align: top;\n",
       "    }\n",
       "\n",
       "    .dataframe thead th {\n",
       "        text-align: right;\n",
       "    }\n",
       "</style>\n",
       "<table border=\"1\" class=\"dataframe\">\n",
       "  <thead>\n",
       "    <tr style=\"text-align: right;\">\n",
       "      <th></th>\n",
       "      <th>Country Name</th>\n",
       "      <th>Country Code</th>\n",
       "      <th>Indicator Name</th>\n",
       "      <th>Indicator Code</th>\n",
       "      <th>Year</th>\n",
       "      <th>Population</th>\n",
       "    </tr>\n",
       "  </thead>\n",
       "  <tbody>\n",
       "    <tr>\n",
       "      <th>15043</th>\n",
       "      <td>Kosovo</td>\n",
       "      <td>XKX</td>\n",
       "      <td>Population, total</td>\n",
       "      <td>SP.POP.TOTL</td>\n",
       "      <td>2016</td>\n",
       "      <td>1816200.0</td>\n",
       "    </tr>\n",
       "    <tr>\n",
       "      <th>15044</th>\n",
       "      <td>Yemen, Rep.</td>\n",
       "      <td>YEM</td>\n",
       "      <td>Population, total</td>\n",
       "      <td>SP.POP.TOTL</td>\n",
       "      <td>2016</td>\n",
       "      <td>27584213.0</td>\n",
       "    </tr>\n",
       "    <tr>\n",
       "      <th>15045</th>\n",
       "      <td>South Africa</td>\n",
       "      <td>ZAF</td>\n",
       "      <td>Population, total</td>\n",
       "      <td>SP.POP.TOTL</td>\n",
       "      <td>2016</td>\n",
       "      <td>56015473.0</td>\n",
       "    </tr>\n",
       "    <tr>\n",
       "      <th>15046</th>\n",
       "      <td>Zambia</td>\n",
       "      <td>ZMB</td>\n",
       "      <td>Population, total</td>\n",
       "      <td>SP.POP.TOTL</td>\n",
       "      <td>2016</td>\n",
       "      <td>16591390.0</td>\n",
       "    </tr>\n",
       "    <tr>\n",
       "      <th>15047</th>\n",
       "      <td>Zimbabwe</td>\n",
       "      <td>ZWE</td>\n",
       "      <td>Population, total</td>\n",
       "      <td>SP.POP.TOTL</td>\n",
       "      <td>2016</td>\n",
       "      <td>16150362.0</td>\n",
       "    </tr>\n",
       "  </tbody>\n",
       "</table>\n",
       "</div>"
      ],
      "text/plain": [
       "       Country Name Country Code     Indicator Name Indicator Code  Year  \\\n",
       "15043        Kosovo          XKX  Population, total    SP.POP.TOTL  2016   \n",
       "15044   Yemen, Rep.          YEM  Population, total    SP.POP.TOTL  2016   \n",
       "15045  South Africa          ZAF  Population, total    SP.POP.TOTL  2016   \n",
       "15046        Zambia          ZMB  Population, total    SP.POP.TOTL  2016   \n",
       "15047      Zimbabwe          ZWE  Population, total    SP.POP.TOTL  2016   \n",
       "\n",
       "       Population  \n",
       "15043   1816200.0  \n",
       "15044  27584213.0  \n",
       "15045  56015473.0  \n",
       "15046  16591390.0  \n",
       "15047  16150362.0  "
      ]
     },
     "execution_count": 8,
     "metadata": {},
     "output_type": "execute_result"
    }
   ],
   "source": [
    "df.tail()"
   ]
  },
  {
   "cell_type": "markdown",
   "metadata": {},
   "source": [
    "We get rid of rows that have `NA` values:"
   ]
  },
  {
   "cell_type": "code",
   "execution_count": 9,
   "metadata": {},
   "outputs": [
    {
     "name": "stdout",
     "output_type": "stream",
     "text": [
      "(14885, 6)\n"
     ]
    },
    {
     "data": {
      "text/html": [
       "<div>\n",
       "<style scoped>\n",
       "    .dataframe tbody tr th:only-of-type {\n",
       "        vertical-align: middle;\n",
       "    }\n",
       "\n",
       "    .dataframe tbody tr th {\n",
       "        vertical-align: top;\n",
       "    }\n",
       "\n",
       "    .dataframe thead th {\n",
       "        text-align: right;\n",
       "    }\n",
       "</style>\n",
       "<table border=\"1\" class=\"dataframe\">\n",
       "  <thead>\n",
       "    <tr style=\"text-align: right;\">\n",
       "      <th></th>\n",
       "      <th>Country Name</th>\n",
       "      <th>Country Code</th>\n",
       "      <th>Indicator Name</th>\n",
       "      <th>Indicator Code</th>\n",
       "      <th>Year</th>\n",
       "      <th>Population</th>\n",
       "    </tr>\n",
       "  </thead>\n",
       "  <tbody>\n",
       "    <tr>\n",
       "      <th>0</th>\n",
       "      <td>Aruba</td>\n",
       "      <td>ABW</td>\n",
       "      <td>Population, total</td>\n",
       "      <td>SP.POP.TOTL</td>\n",
       "      <td>1960</td>\n",
       "      <td>54211.0</td>\n",
       "    </tr>\n",
       "    <tr>\n",
       "      <th>1</th>\n",
       "      <td>Afghanistan</td>\n",
       "      <td>AFG</td>\n",
       "      <td>Population, total</td>\n",
       "      <td>SP.POP.TOTL</td>\n",
       "      <td>1960</td>\n",
       "      <td>8996351.0</td>\n",
       "    </tr>\n",
       "    <tr>\n",
       "      <th>2</th>\n",
       "      <td>Angola</td>\n",
       "      <td>AGO</td>\n",
       "      <td>Population, total</td>\n",
       "      <td>SP.POP.TOTL</td>\n",
       "      <td>1960</td>\n",
       "      <td>5643182.0</td>\n",
       "    </tr>\n",
       "    <tr>\n",
       "      <th>3</th>\n",
       "      <td>Albania</td>\n",
       "      <td>ALB</td>\n",
       "      <td>Population, total</td>\n",
       "      <td>SP.POP.TOTL</td>\n",
       "      <td>1960</td>\n",
       "      <td>1608800.0</td>\n",
       "    </tr>\n",
       "    <tr>\n",
       "      <th>4</th>\n",
       "      <td>Andorra</td>\n",
       "      <td>AND</td>\n",
       "      <td>Population, total</td>\n",
       "      <td>SP.POP.TOTL</td>\n",
       "      <td>1960</td>\n",
       "      <td>13411.0</td>\n",
       "    </tr>\n",
       "  </tbody>\n",
       "</table>\n",
       "</div>"
      ],
      "text/plain": [
       "  Country Name Country Code     Indicator Name Indicator Code  Year  \\\n",
       "0        Aruba          ABW  Population, total    SP.POP.TOTL  1960   \n",
       "1  Afghanistan          AFG  Population, total    SP.POP.TOTL  1960   \n",
       "2       Angola          AGO  Population, total    SP.POP.TOTL  1960   \n",
       "3      Albania          ALB  Population, total    SP.POP.TOTL  1960   \n",
       "4      Andorra          AND  Population, total    SP.POP.TOTL  1960   \n",
       "\n",
       "   Population  \n",
       "0     54211.0  \n",
       "1   8996351.0  \n",
       "2   5643182.0  \n",
       "3   1608800.0  \n",
       "4     13411.0  "
      ]
     },
     "execution_count": 9,
     "metadata": {},
     "output_type": "execute_result"
    }
   ],
   "source": [
    "df.dropna(axis=0, inplace=True)\n",
    "print(df.shape)\n",
    "df.head()"
   ]
  },
  {
   "cell_type": "markdown",
   "metadata": {},
   "source": [
    "Note that the `Year` column has a type `O` (object) instead of `int`, so we change that:"
   ]
  },
  {
   "cell_type": "code",
   "execution_count": 10,
   "metadata": {},
   "outputs": [
    {
     "name": "stdout",
     "output_type": "stream",
     "text": [
      "Year object Population float64\n",
      "Year int64 Population float64\n"
     ]
    }
   ],
   "source": [
    "print('Year', df['Year'].dtype, 'Population', df['Population'].dtype)\n",
    "\n",
    "df['Year'] = df['Year'].astype(int)\n",
    "\n",
    "print('Year', df['Year'].dtype, 'Population', df['Population'].dtype)"
   ]
  },
  {
   "cell_type": "markdown",
   "metadata": {},
   "source": [
    "# Data exploration with plots\n",
    "\n",
    "Let's start with the three biggest population in the dataset - the entire world, China and India (disregarding regions).\n",
    "We will plot their population size over time:"
   ]
  },
  {
   "cell_type": "code",
   "execution_count": 11,
   "metadata": {},
   "outputs": [
    {
     "data": {
      "text/html": [
       "<div>\n",
       "<style scoped>\n",
       "    .dataframe tbody tr th:only-of-type {\n",
       "        vertical-align: middle;\n",
       "    }\n",
       "\n",
       "    .dataframe tbody tr th {\n",
       "        vertical-align: top;\n",
       "    }\n",
       "\n",
       "    .dataframe thead th {\n",
       "        text-align: right;\n",
       "    }\n",
       "</style>\n",
       "<table border=\"1\" class=\"dataframe\">\n",
       "  <thead>\n",
       "    <tr style=\"text-align: right;\">\n",
       "      <th></th>\n",
       "      <th>Country Name</th>\n",
       "      <th>Country Code</th>\n",
       "      <th>Indicator Name</th>\n",
       "      <th>Indicator Code</th>\n",
       "      <th>Year</th>\n",
       "      <th>Population</th>\n",
       "    </tr>\n",
       "  </thead>\n",
       "  <tbody>\n",
       "    <tr>\n",
       "      <th>15041</th>\n",
       "      <td>World</td>\n",
       "      <td>WLD</td>\n",
       "      <td>Population, total</td>\n",
       "      <td>SP.POP.TOTL</td>\n",
       "      <td>2016</td>\n",
       "      <td>7.444027e+09</td>\n",
       "    </tr>\n",
       "    <tr>\n",
       "      <th>14885</th>\n",
       "      <td>IDA &amp; IBRD total</td>\n",
       "      <td>IBT</td>\n",
       "      <td>Population, total</td>\n",
       "      <td>SP.POP.TOTL</td>\n",
       "      <td>2016</td>\n",
       "      <td>6.273582e+09</td>\n",
       "    </tr>\n",
       "    <tr>\n",
       "      <th>14922</th>\n",
       "      <td>Low &amp; middle income</td>\n",
       "      <td>LMY</td>\n",
       "      <td>Population, total</td>\n",
       "      <td>SP.POP.TOTL</td>\n",
       "      <td>2016</td>\n",
       "      <td>6.254073e+09</td>\n",
       "    </tr>\n",
       "    <tr>\n",
       "      <th>14938</th>\n",
       "      <td>Middle income</td>\n",
       "      <td>MIC</td>\n",
       "      <td>Population, total</td>\n",
       "      <td>SP.POP.TOTL</td>\n",
       "      <td>2016</td>\n",
       "      <td>5.594800e+09</td>\n",
       "    </tr>\n",
       "    <tr>\n",
       "      <th>14884</th>\n",
       "      <td>IBRD only</td>\n",
       "      <td>IBD</td>\n",
       "      <td>Population, total</td>\n",
       "      <td>SP.POP.TOTL</td>\n",
       "      <td>2016</td>\n",
       "      <td>4.699229e+09</td>\n",
       "    </tr>\n",
       "    <tr>\n",
       "      <th>14844</th>\n",
       "      <td>Early-demographic dividend</td>\n",
       "      <td>EAR</td>\n",
       "      <td>Population, total</td>\n",
       "      <td>SP.POP.TOTL</td>\n",
       "      <td>2016</td>\n",
       "      <td>3.170658e+09</td>\n",
       "    </tr>\n",
       "    <tr>\n",
       "      <th>14921</th>\n",
       "      <td>Lower middle income</td>\n",
       "      <td>LMC</td>\n",
       "      <td>Population, total</td>\n",
       "      <td>SP.POP.TOTL</td>\n",
       "      <td>2016</td>\n",
       "      <td>3.014788e+09</td>\n",
       "    </tr>\n",
       "    <tr>\n",
       "      <th>15031</th>\n",
       "      <td>Upper middle income</td>\n",
       "      <td>UMC</td>\n",
       "      <td>Population, total</td>\n",
       "      <td>SP.POP.TOTL</td>\n",
       "      <td>2016</td>\n",
       "      <td>2.580012e+09</td>\n",
       "    </tr>\n",
       "    <tr>\n",
       "      <th>14845</th>\n",
       "      <td>East Asia &amp; Pacific</td>\n",
       "      <td>EAS</td>\n",
       "      <td>Population, total</td>\n",
       "      <td>SP.POP.TOTL</td>\n",
       "      <td>2016</td>\n",
       "      <td>2.298727e+09</td>\n",
       "    </tr>\n",
       "    <tr>\n",
       "      <th>14924</th>\n",
       "      <td>Late-demographic dividend</td>\n",
       "      <td>LTE</td>\n",
       "      <td>Population, total</td>\n",
       "      <td>SP.POP.TOTL</td>\n",
       "      <td>2016</td>\n",
       "      <td>2.264566e+09</td>\n",
       "    </tr>\n",
       "    <tr>\n",
       "      <th>14843</th>\n",
       "      <td>East Asia &amp; Pacific (excluding high income)</td>\n",
       "      <td>EAP</td>\n",
       "      <td>Population, total</td>\n",
       "      <td>SP.POP.TOTL</td>\n",
       "      <td>2016</td>\n",
       "      <td>2.053299e+09</td>\n",
       "    </tr>\n",
       "    <tr>\n",
       "      <th>15012</th>\n",
       "      <td>East Asia &amp; Pacific (IDA &amp; IBRD countries)</td>\n",
       "      <td>TEA</td>\n",
       "      <td>Population, total</td>\n",
       "      <td>SP.POP.TOTL</td>\n",
       "      <td>2016</td>\n",
       "      <td>2.027896e+09</td>\n",
       "    </tr>\n",
       "    <tr>\n",
       "      <th>14986</th>\n",
       "      <td>South Asia</td>\n",
       "      <td>SAS</td>\n",
       "      <td>Population, total</td>\n",
       "      <td>SP.POP.TOTL</td>\n",
       "      <td>2016</td>\n",
       "      <td>1.766394e+09</td>\n",
       "    </tr>\n",
       "    <tr>\n",
       "      <th>15022</th>\n",
       "      <td>South Asia (IDA &amp; IBRD)</td>\n",
       "      <td>TSA</td>\n",
       "      <td>Population, total</td>\n",
       "      <td>SP.POP.TOTL</td>\n",
       "      <td>2016</td>\n",
       "      <td>1.766394e+09</td>\n",
       "    </tr>\n",
       "    <tr>\n",
       "      <th>14886</th>\n",
       "      <td>IDA total</td>\n",
       "      <td>IDA</td>\n",
       "      <td>Population, total</td>\n",
       "      <td>SP.POP.TOTL</td>\n",
       "      <td>2016</td>\n",
       "      <td>1.574353e+09</td>\n",
       "    </tr>\n",
       "    <tr>\n",
       "      <th>14822</th>\n",
       "      <td>China</td>\n",
       "      <td>CHN</td>\n",
       "      <td>Population, total</td>\n",
       "      <td>SP.POP.TOTL</td>\n",
       "      <td>2016</td>\n",
       "      <td>1.378665e+09</td>\n",
       "    </tr>\n",
       "    <tr>\n",
       "      <th>14891</th>\n",
       "      <td>India</td>\n",
       "      <td>IND</td>\n",
       "      <td>Population, total</td>\n",
       "      <td>SP.POP.TOTL</td>\n",
       "      <td>2016</td>\n",
       "      <td>1.324171e+09</td>\n",
       "    </tr>\n",
       "    <tr>\n",
       "      <th>14963</th>\n",
       "      <td>OECD members</td>\n",
       "      <td>OED</td>\n",
       "      <td>Population, total</td>\n",
       "      <td>SP.POP.TOTL</td>\n",
       "      <td>2016</td>\n",
       "      <td>1.289873e+09</td>\n",
       "    </tr>\n",
       "    <tr>\n",
       "      <th>14877</th>\n",
       "      <td>High income</td>\n",
       "      <td>HIC</td>\n",
       "      <td>Population, total</td>\n",
       "      <td>SP.POP.TOTL</td>\n",
       "      <td>2016</td>\n",
       "      <td>1.189954e+09</td>\n",
       "    </tr>\n",
       "    <tr>\n",
       "      <th>14980</th>\n",
       "      <td>Post-demographic dividend</td>\n",
       "      <td>PST</td>\n",
       "      <td>Population, total</td>\n",
       "      <td>SP.POP.TOTL</td>\n",
       "      <td>2016</td>\n",
       "      <td>1.102651e+09</td>\n",
       "    </tr>\n",
       "  </tbody>\n",
       "</table>\n",
       "</div>"
      ],
      "text/plain": [
       "                                      Country Name Country Code  \\\n",
       "15041                                        World          WLD   \n",
       "14885                             IDA & IBRD total          IBT   \n",
       "14922                          Low & middle income          LMY   \n",
       "14938                                Middle income          MIC   \n",
       "14884                                    IBRD only          IBD   \n",
       "14844                   Early-demographic dividend          EAR   \n",
       "14921                          Lower middle income          LMC   \n",
       "15031                          Upper middle income          UMC   \n",
       "14845                          East Asia & Pacific          EAS   \n",
       "14924                    Late-demographic dividend          LTE   \n",
       "14843  East Asia & Pacific (excluding high income)          EAP   \n",
       "15012   East Asia & Pacific (IDA & IBRD countries)          TEA   \n",
       "14986                                   South Asia          SAS   \n",
       "15022                      South Asia (IDA & IBRD)          TSA   \n",
       "14886                                    IDA total          IDA   \n",
       "14822                                        China          CHN   \n",
       "14891                                        India          IND   \n",
       "14963                                 OECD members          OED   \n",
       "14877                                  High income          HIC   \n",
       "14980                    Post-demographic dividend          PST   \n",
       "\n",
       "          Indicator Name Indicator Code  Year    Population  \n",
       "15041  Population, total    SP.POP.TOTL  2016  7.444027e+09  \n",
       "14885  Population, total    SP.POP.TOTL  2016  6.273582e+09  \n",
       "14922  Population, total    SP.POP.TOTL  2016  6.254073e+09  \n",
       "14938  Population, total    SP.POP.TOTL  2016  5.594800e+09  \n",
       "14884  Population, total    SP.POP.TOTL  2016  4.699229e+09  \n",
       "14844  Population, total    SP.POP.TOTL  2016  3.170658e+09  \n",
       "14921  Population, total    SP.POP.TOTL  2016  3.014788e+09  \n",
       "15031  Population, total    SP.POP.TOTL  2016  2.580012e+09  \n",
       "14845  Population, total    SP.POP.TOTL  2016  2.298727e+09  \n",
       "14924  Population, total    SP.POP.TOTL  2016  2.264566e+09  \n",
       "14843  Population, total    SP.POP.TOTL  2016  2.053299e+09  \n",
       "15012  Population, total    SP.POP.TOTL  2016  2.027896e+09  \n",
       "14986  Population, total    SP.POP.TOTL  2016  1.766394e+09  \n",
       "15022  Population, total    SP.POP.TOTL  2016  1.766394e+09  \n",
       "14886  Population, total    SP.POP.TOTL  2016  1.574353e+09  \n",
       "14822  Population, total    SP.POP.TOTL  2016  1.378665e+09  \n",
       "14891  Population, total    SP.POP.TOTL  2016  1.324171e+09  \n",
       "14963  Population, total    SP.POP.TOTL  2016  1.289873e+09  \n",
       "14877  Population, total    SP.POP.TOTL  2016  1.189954e+09  \n",
       "14980  Population, total    SP.POP.TOTL  2016  1.102651e+09  "
      ]
     },
     "execution_count": 11,
     "metadata": {},
     "output_type": "execute_result"
    }
   ],
   "source": [
    "latest = df[df['Year']==df['Year'].max()]\n",
    "latest.sort_values('Population', ascending=False).head(20)"
   ]
  },
  {
   "cell_type": "code",
   "execution_count": 12,
   "metadata": {},
   "outputs": [
    {
     "data": {
      "image/png": "[encoded data removed]",
      "text/plain": [
       "<matplotlib.figure.Figure at 0x1165a1908>"
      ]
     },
     "metadata": {},
     "output_type": "display_data"
    }
   ],
   "source": [
    "biggest_countries = ['World', 'China', 'India']\n",
    "biggest_mask = df['Country Name'].isin(biggest_countries)\n",
    "biggest = df[biggest_mask]\n",
    "\n",
    "fig, ax = plt.subplots()\n",
    "biggest.groupby('Country Name').plot('Year', 'Population', ax=ax)\n",
    "plt.legend(biggest_countries)\n",
    "plt.ylabel('Population')\n",
    "sns.despine()"
   ]
  },
  {
   "cell_type": "markdown",
   "metadata": {},
   "source": [
    "## Exercise - correlation\n",
    "\n",
    "Plot a scatter plot that demonstrates the correlation between the populations of China and India."
   ]
  },
  {
   "cell_type": "code",
   "execution_count": 13,
   "metadata": {},
   "outputs": [
    {
     "data": {
      "image/png": "[encoded data removed]",
      "text/plain": [
       "<matplotlib.figure.Figure at 0x116d97d30>"
      ]
     },
     "metadata": {},
     "output_type": "display_data"
    }
   ],
   "source": [
    "china = df[df['Country Name'] == 'China']\n",
    "india = df[df['Country Name'] == 'India']\n",
    "\n",
    "plt.plot(china['Population'], india['Population'])\n",
    "plt.xlabel('China')\n",
    "plt.ylabel('India')\n",
    "sns.despine()"
   ]
  },
  {
   "cell_type": "markdown",
   "metadata": {},
   "source": [
    "# Exponential growth model\n",
    "\n",
    "How do we model the growth of a population?\n",
    "\n",
    "According to [Malthus](http://en.wikipedia.org/wiki/Thomas_Robert_Malthus), if the instantaneous rate of births is $b$ and the instantaneous rate of deaths is $r$, then the instantaneous rate of growth (or decline) of the population is\n",
    "\n",
    "$$\n",
    "\\frac{dN(t)}{dt} = b N(t) - d N(t) = r N(t)\n",
    "$$\n",
    "\n",
    "where $N(t)$ is the population size at time $t$ and $r=b-d$ is the specific growth rate (or per capita growth rate).\n",
    "\n",
    "This is called the Malthusian growth model or more commonly the [exponential growth model](https://en.wikipedia.org/wiki/Exponential_growth).\n",
    "\n",
    "This ODE can be solved via [logarithmic differentiation](https://en.wikipedia.org/wiki/Logarithmic_differentiation):\n",
    "\n",
    "$$\n",
    "\\frac{dN(t)}{dt} = r N(t) \\Rightarrow \\\\\n",
    "\\frac{1}{N(t)} \\frac{dN(t)}{dt} = r \\Rightarrow \\\\\n",
    "\\frac{d \\log{N(t)}}{dt} = r \\Rightarrow \\\\\n",
    "\\log{N(t)} =  r t + C \\Rightarrow \\\\\n",
    "N(t) = e^{rt + C} = e^{rt} e^{C}\n",
    "$$\n",
    "\n",
    "Now add the boundary condition $N(0) = N_0$ to get\n",
    "\n",
    "$$\n",
    "e^{C} = N_0\n",
    "$$\n",
    "\n",
    "and finally\n",
    "\n",
    "$$\n",
    "N(t) = N(0) e^{rt}\n",
    "$$\n",
    "\n",
    "Note that during the integration we found that the **logarithm of the population should be a linear function of time** $\\log{N(t)} = \\log{N(0)} + rt$.\n",
    "\n",
    "Let's check if the world population growth fits the exponential model. \n",
    "First define a new column for the log of the population size:"
   ]
  },
  {
   "cell_type": "code",
   "execution_count": 14,
   "metadata": {},
   "outputs": [],
   "source": [
    "df['LogPopulation'] = np.log(df.Population)"
   ]
  },
  {
   "cell_type": "markdown",
   "metadata": {},
   "source": [
    "![G7 map](https://upload.wikimedia.org/wikipedia/commons/thumb/4/45/Group_of_Seven_%28G7%29_Countries.svg/320px-Group_of_Seven_%28G7%29_Countries.svg.png)\n",
    "\n",
    "Let's concentrate on the [G7 countires](http://en.wikipedia.org/wiki/Group_of_Seven)."
   ]
  },
  {
   "cell_type": "code",
   "execution_count": 15,
   "metadata": {},
   "outputs": [
    {
     "data": {
      "text/html": [
       "<div>\n",
       "<style scoped>\n",
       "    .dataframe tbody tr th:only-of-type {\n",
       "        vertical-align: middle;\n",
       "    }\n",
       "\n",
       "    .dataframe tbody tr th {\n",
       "        vertical-align: top;\n",
       "    }\n",
       "\n",
       "    .dataframe thead th {\n",
       "        text-align: right;\n",
       "    }\n",
       "</style>\n",
       "<table border=\"1\" class=\"dataframe\">\n",
       "  <thead>\n",
       "    <tr style=\"text-align: right;\">\n",
       "      <th></th>\n",
       "      <th>Country Name</th>\n",
       "      <th>Country Code</th>\n",
       "      <th>Indicator Name</th>\n",
       "      <th>Indicator Code</th>\n",
       "      <th>Year</th>\n",
       "      <th>Population</th>\n",
       "      <th>LogPopulation</th>\n",
       "    </tr>\n",
       "  </thead>\n",
       "  <tbody>\n",
       "    <tr>\n",
       "      <th>33</th>\n",
       "      <td>Canada</td>\n",
       "      <td>CAN</td>\n",
       "      <td>Population, total</td>\n",
       "      <td>SP.POP.TOTL</td>\n",
       "      <td>1960</td>\n",
       "      <td>17909009.0</td>\n",
       "      <td>16.700814</td>\n",
       "    </tr>\n",
       "    <tr>\n",
       "      <th>53</th>\n",
       "      <td>Germany</td>\n",
       "      <td>DEU</td>\n",
       "      <td>Population, total</td>\n",
       "      <td>SP.POP.TOTL</td>\n",
       "      <td>1960</td>\n",
       "      <td>72814900.0</td>\n",
       "      <td>18.103431</td>\n",
       "    </tr>\n",
       "    <tr>\n",
       "      <th>75</th>\n",
       "      <td>France</td>\n",
       "      <td>FRA</td>\n",
       "      <td>Population, total</td>\n",
       "      <td>SP.POP.TOTL</td>\n",
       "      <td>1960</td>\n",
       "      <td>46814237.0</td>\n",
       "      <td>17.661698</td>\n",
       "    </tr>\n",
       "    <tr>\n",
       "      <th>79</th>\n",
       "      <td>United Kingdom</td>\n",
       "      <td>GBR</td>\n",
       "      <td>Population, total</td>\n",
       "      <td>SP.POP.TOTL</td>\n",
       "      <td>1960</td>\n",
       "      <td>52400000.0</td>\n",
       "      <td>17.774417</td>\n",
       "    </tr>\n",
       "    <tr>\n",
       "      <th>114</th>\n",
       "      <td>Italy</td>\n",
       "      <td>ITA</td>\n",
       "      <td>Population, total</td>\n",
       "      <td>SP.POP.TOTL</td>\n",
       "      <td>1960</td>\n",
       "      <td>50199700.0</td>\n",
       "      <td>17.731520</td>\n",
       "    </tr>\n",
       "  </tbody>\n",
       "</table>\n",
       "</div>"
      ],
      "text/plain": [
       "       Country Name Country Code     Indicator Name Indicator Code  Year  \\\n",
       "33           Canada          CAN  Population, total    SP.POP.TOTL  1960   \n",
       "53          Germany          DEU  Population, total    SP.POP.TOTL  1960   \n",
       "75           France          FRA  Population, total    SP.POP.TOTL  1960   \n",
       "79   United Kingdom          GBR  Population, total    SP.POP.TOTL  1960   \n",
       "114           Italy          ITA  Population, total    SP.POP.TOTL  1960   \n",
       "\n",
       "     Population  LogPopulation  \n",
       "33   17909009.0      16.700814  \n",
       "53   72814900.0      18.103431  \n",
       "75   46814237.0      17.661698  \n",
       "79   52400000.0      17.774417  \n",
       "114  50199700.0      17.731520  "
      ]
     },
     "execution_count": 15,
     "metadata": {},
     "output_type": "execute_result"
    }
   ],
   "source": [
    "G7_countries = ('Canada', 'France', 'Germany', 'Italy', 'Japan', 'United Kingdom', 'United States')\n",
    "G7 = df[df['Country Name'].isin(G7_countries)]\n",
    "G7.head()"
   ]
  },
  {
   "cell_type": "markdown",
   "metadata": {},
   "source": [
    "Now sort the countries based on the largest population in 2017 so that the next plot will have a legend that is ordered by country size. \n",
    "\n",
    "We start by splitting the dataframe according to country name and extracting the max population size for each country so that we will have a column of the country name as index and the max population size as the value.\n",
    "We then sort by the value (the population max size) and extract the index (the country).\n",
    "We will use this sorted list for ordering the colors in the next plot."
   ]
  },
  {
   "cell_type": "code",
   "execution_count": 38,
   "metadata": {},
   "outputs": [
    {
     "name": "stdout",
     "output_type": "stream",
     "text": [
      "['United States', 'Japan', 'Germany', 'France', 'United Kingdom', 'Italy', 'Canada']\n"
     ]
    }
   ],
   "source": [
    "G7_countries = G7.groupby('Country Name')['Population'].max()\n",
    "G7_countries.sort_values(ascending=False, inplace=True)\n",
    "G7_countries = G7_countries.index\n",
    "print(G7_countries.tolist())"
   ]
  },
  {
   "cell_type": "markdown",
   "metadata": {},
   "source": [
    "We now plot the log of the population sizes. "
   ]
  },
  {
   "cell_type": "code",
   "execution_count": 39,
   "metadata": {},
   "outputs": [
    {
     "data": {
      "image/png": "[encoded data removed]",
      "text/plain": [
       "<matplotlib.figure.Figure at 0x109def4a8>"
      ]
     },
     "metadata": {},
     "output_type": "display_data"
    }
   ],
   "source": [
    "fig, ax = plt.subplots()\n",
    "G7.groupby('Country Name').plot('Year', 'LogPopulation', ax=ax)\n",
    "ax.legend(G7_countries, bbox_to_anchor=(1, 0.75))\n",
    "ax.set_ylabel('Log population size')\n",
    "sns.despine()"
   ]
  },
  {
   "cell_type": "markdown",
   "metadata": {},
   "source": [
    "Lines look liner, lets plot the data with a linear regression - linear model fit.\n",
    "We'll concentrate on the details of how linear regression is done and the assumptions it makes in a different time; briefly, we assume the the log of the population size is a linear function of the year and that the residuals - the difference between the model prediction and the observed values - are normally distributed. \n",
    "Both assumptions are problametic but we will deals with that later.\n",
    "\n",
    "We can quickly plot the linear models fit using seaborn's `lmplot` function."
   ]
  },
  {
   "cell_type": "code",
   "execution_count": 54,
   "metadata": {},
   "outputs": [
    {
     "data": {
      "image/png": "[encoded data removed]",
      "text/plain": [
       "<matplotlib.figure.Figure at 0x11b83f080>"
      ]
     },
     "metadata": {},
     "output_type": "display_data"
    }
   ],
   "source": [
    "sns.lmplot(\n",
    "    x='Year', \n",
    "    y='LogPopulation', \n",
    "    hue='Country Name', \n",
    "    data=G7, \n",
    "    size=7, \n",
    "    aspect=1.5, \n",
    "    line_kws=dict(ls='--'),\n",
    "    hue_order=G7_countries\n",
    ");"
   ]
  },
  {
   "cell_type": "markdown",
   "metadata": {},
   "source": [
    "This is interesting. While some countries fit the Malthusian model very well (United States, France, United Kingdom), some countries don't fit as well: Japan seems to have stopped growing during the 1980s, and, Germany, Italy and Canada also seem to decelerate their growth. \n",
    "For an interesting evolutionary perspective see [this paper](http::/doi.org/10.1016/j.tpb.2003.07.003):\n",
    "> Ihara Y, Feldman MW (2004) Cultural niche construction and the evolution of small family size. Theor Popul Biol 65(1):105–111.\n",
    "\n",
    "# Predictions using the exponential model\n",
    "\n",
    "Let's focus on the four largest countries, only one of the is \"developed\", but as we saw above it fits the Malthusian model.\n",
    "We will use SciPy's [`linregress` function](http://docs.scipy.org/doc/scipy-0.15.1/reference/generated/scipy.stats.linregress.html) to perform linear regression. This will allow us to **extrapolate** - to predict what will be the population of these countries if the rate at which they grow remain constant under the Malthusian model. \n",
    "\n",
    "Remember that the linear model is $\\log{N(t)} = r t + \\log{N_0}$, where $r$ is the slope or the population growth rate and $N_0$ is the interception or the size of the population in year 0.\n",
    "But then we have to exponentiate both sides of the equation as we want actual population size and not log population - so we get $N(t) = N_0 e^{rt}$.\n",
    "\n",
    "Let's extrapolate to the end of the century:"
   ]
  },
  {
   "cell_type": "code",
   "execution_count": 64,
   "metadata": {},
   "outputs": [
    {
     "name": "stdout",
     "output_type": "stream",
     "text": [
      "Coefficient of correlation for India: 0.9968, P-value for India: 3.6e-62\n",
      "Coefficient of correlation for China: 0.9729, P-value for China: 1.1e-36\n",
      "Coefficient of correlation for United States: 0.9991, P-value for United States: 1.8e-77\n",
      "Coefficient of correlation for Brazil: 0.9877, P-value for Brazil: 5.4e-46\n"
     ]
    },
    {
     "data": {
      "image/png": "[encoded data removed]",
      "text/plain": [
       "<matplotlib.figure.Figure at 0x11c270eb8>"
      ]
     },
     "metadata": {},
     "output_type": "display_data"
    }
   ],
   "source": [
    "biggest_countries = ('India','China','United States', 'Brazil')\n",
    "\n",
    "plt.figure(figsize=(10, 5))\n",
    "years = np.linspace(df.Year.min(), 2080)\n",
    "for country_name in biggest_countries:\n",
    "    country_df = df[df['Country Name'] == country_name]\n",
    "    slope, intercept, r_value, p_value, std_err = linregress(country_df['Year'], country_df['LogPopulation'])\n",
    "    print(\"Coefficient of correlation for {}: {:.4f}\".format(country_name, r_value), end=\", \")\n",
    "    print(\"P-value for {}: {:.2g}\".format(country_name, p_value))\n",
    "    population = np.exp(intercept + slope * years)\n",
    "    plt.plot(years, population, label=country_name) # prediction\n",
    "    plt.scatter(country_df['Year'], country_df['Population'], marker='.', label='') #data\n",
    "plt.xlabel('Year')\n",
    "plt.ylabel('Population')\n",
    "plt.yscale('log')\n",
    "plt.ylim(5e7, 1e10)\n",
    "plt.legend(loc='upper left')\n",
    "\n",
    "\n",
    "plt.axvline(x=2027, color='gray', linestyle='--')\n",
    "plt.axvline(x=2056, color='gray', linestyle='--')\n",
    "sns.despine()"
   ]
  },
  {
   "cell_type": "markdown",
   "metadata": {},
   "source": [
    "From our prediction, India will pass China around 2027 and Brazil will pass United States around 2056. \n",
    "\n",
    "From the results of `linregress` we can estimate confidence intervals on the intercept and slope -- look for it online. We can also [calculate the coefficient of determination](http://stackoverflow.com/a/895063/1063612) ($R^2$)."
   ]
  },
  {
   "cell_type": "markdown",
   "metadata": {},
   "source": [
    "# Logistic growth model\n",
    "\n",
    "The Malthusian/exponential growth model can't always be correct: many times growth decelerates and effectively stops when reaching a certain size _K_ (carrying capacity, maximum yield, maximum population density etc.). \n",
    "This is true for fish body size (Schnute 1981), microbial population size in a constant volume (Zwietering 1990), and natural animal populations. \n",
    "In these cases it is common to use the [**logistic growth model**](http://en.wikipedia.org/wiki/Logistic_function#In_ecology:_modeling_population_growth) in which the size of the population inhibits growth, leading to a maximum population size after which growth stops.\n",
    "\n",
    "For example, consider a population $N(t)$ which consumes a resource $R(t)$ to grow.\n",
    "\n",
    "$$\n",
    "\\frac{dR}{dt} = -h R N \\\\\n",
    "\\frac{dN}{dt} = \\epsilon h R N \\\\\n",
    "$$\n",
    "\n",
    "Set $K = \\epsilon R + N$ so that:\n",
    "- $\\frac{dK}{dt} = \\epsilon \\frac{dR}{dt} + \\frac{dN}{dt} = 0$ and therefore $K$ is constant and we can set $K=\\epsilon R(0)+N(0)$.\n",
    "- $\\epsilon R = K - N$.\n",
    "\n",
    "Therefore we have\n",
    "\n",
    "$$\n",
    "\\frac{dN}{dt} = \\epsilon h N (K-N) = r N (1-\\frac{N}{K})\n",
    "$$\n",
    "where $r = \\epsilon h / K$.\n",
    "\n",
    "This is called the logistic ODE.\n",
    "\n",
    "We can solve this equation by a similar approach to the exponential model:\n",
    "\n",
    "$$\n",
    "N(t) = \\frac{K}{1 - \\Big( 1 - \\frac{K}{N(0)} \\Big) e^{-r t} }\n",
    "$$"
   ]
  },
  {
   "cell_type": "code",
   "execution_count": 189,
   "metadata": {},
   "outputs": [],
   "source": [
    "def logistic(t, N0, K, r):\n",
    "    return K / (1 - (1 - K/N0) * np.exp(-r * t))"
   ]
  },
  {
   "cell_type": "code",
   "execution_count": 190,
   "metadata": {},
   "outputs": [
    {
     "data": {
      "image/png": "[encoded data removed]",
      "text/plain": [
       "<matplotlib.figure.Figure at 0x11f7e8630>"
      ]
     },
     "metadata": {},
     "output_type": "display_data"
    }
   ],
   "source": [
    "t = np.linspace(0,10)\n",
    "N = logistic(t, N0=1, K=10, r=1)\n",
    "plt.plot(t, N)\n",
    "plt.xlabel('Time')\n",
    "plt.ylabel('Population')\n",
    "sns.despine();"
   ]
  },
  {
   "cell_type": "markdown",
   "metadata": {},
   "source": [
    "## Fitting a logistic model \n",
    "\n",
    "So we have a standard growth model, but how do we find the right model (_i.e._ parameters: `N0`, `r`, `K`) for our data? To do this we need to **fit the logistic model** to our data. \n",
    "But this model is not linear and cannot be linearized like the exponential model; we need to perform non-linear fitting.\n",
    "\n",
    "We will use a SciPy function called [`curve_fit`](https://docs.scipy.org/doc/scipy/reference/generated/scipy.optimize.curve_fit.html) that accepts a model (a function of `t` and some other arguments/parameters that returns `N`), data (`t` and `N`), initial guesses of the model parameters, and some other optional arguments. It evaluates the model with the initial guesses and calculates the _fit_ of the result by minimizing the sum of the square of the differences between the model and the data.\n",
    "It then makes another guess of the model parameters, evaluates the model result and calculates the distance, and again and again.\n",
    "It stops when it reaches a minimal distance, and that's why this operation is called **least squares**.\n",
    "This operation isn't perfect, and when there are even just 3 or 4 model parameters there might be more than one minimum or the function might not find a minimum in a reasonable time.\n",
    "\n",
    "## Simulated data\n",
    "\n",
    "Before we try to work with real data we want to [try it with simulated data](http://stackoverflow.com/a/16241965/1063612) and see that we know what we are doing. \n",
    "To simulate data we generate data from the logistic function and add some normally distributed noise:"
   ]
  },
  {
   "cell_type": "code",
   "execution_count": 191,
   "metadata": {},
   "outputs": [
    {
     "data": {
      "image/png": "[encoded data removed]",
      "text/plain": [
       "<matplotlib.figure.Figure at 0x11fc26e48>"
      ]
     },
     "metadata": {},
     "output_type": "display_data"
    }
   ],
   "source": [
    "simulated = logistic(t, N0=1.5, K=8.5, r=0.75) +  np.random.normal(loc=0, scale=0.7, size=t.shape)\n",
    "plt.scatter(t, simulated)\n",
    "sns.despine()"
   ]
  },
  {
   "cell_type": "markdown",
   "metadata": {},
   "source": [
    "Now we can call `curve_fit` and give it the simulated data and get back an estimate of the model parameters. As you can see, although there is a lot of noise, we get a pretty good estimate of the parameters."
   ]
  },
  {
   "cell_type": "code",
   "execution_count": 193,
   "metadata": {},
   "outputs": [
    {
     "name": "stdout",
     "output_type": "stream",
     "text": [
      "N0=1.752, K=8.423, r=0.731\n"
     ]
    },
    {
     "data": {
      "image/png": "[encoded data removed]",
      "text/plain": [
       "<matplotlib.figure.Figure at 0x11feb6fd0>"
      ]
     },
     "metadata": {},
     "output_type": "display_data"
    }
   ],
   "source": [
    "params, cov = curve_fit(f=logistic, xdata=t, ydata=simulated, p0=(1, 10, 1))\n",
    "N0, K, r = params\n",
    "plt.scatter(t, simulated)\n",
    "plt.plot(t, logistic(t, N0, K, r), '-k')\n",
    "sns.despine()\n",
    "print('N0={0:.3f}, K={1:.3f}, r={2:.3f}'.format(N0, K, r))"
   ]
  },
  {
   "cell_type": "markdown",
   "metadata": {},
   "source": [
    "We can also get confidence intervals for the parameter values from the `cov` return value. But if you need to work with confidence interals you might prefer to work with the package [lmfit](http://lmfit.github.io/lmfit-py/) which is easier to use if you need more than the basics."
   ]
  },
  {
   "cell_type": "markdown",
   "metadata": {},
   "source": [
    "## Real data: bacterial growth curves\n",
    "\n",
    "We will use growth curves of _E. coli_ bacteria. [This data](https://github.com/Py4Life/TAU2015/blob/master/Yoav_311214c_only_OD.csv) was generated by growing bacteria in a 96-well microtiter plate.\n",
    "\n",
    "![96-well plate](http://www.ddw-online.com/library/sid32/microplates.jpg)"
   ]
  },
  {
   "cell_type": "code",
   "execution_count": 194,
   "metadata": {},
   "outputs": [
    {
     "data": {
      "text/html": [
       "<div>\n",
       "<style scoped>\n",
       "    .dataframe tbody tr th:only-of-type {\n",
       "        vertical-align: middle;\n",
       "    }\n",
       "\n",
       "    .dataframe tbody tr th {\n",
       "        vertical-align: top;\n",
       "    }\n",
       "\n",
       "    .dataframe thead th {\n",
       "        text-align: right;\n",
       "    }\n",
       "</style>\n",
       "<table border=\"1\" class=\"dataframe\">\n",
       "  <thead>\n",
       "    <tr style=\"text-align: right;\">\n",
       "      <th></th>\n",
       "      <th>Cycle Nr.</th>\n",
       "      <th>Time [s]</th>\n",
       "      <th>Temp. [°C]</th>\n",
       "      <th>A1</th>\n",
       "      <th>A2</th>\n",
       "      <th>A3</th>\n",
       "      <th>A4</th>\n",
       "      <th>A5</th>\n",
       "      <th>A6</th>\n",
       "      <th>A7</th>\n",
       "      <th>...</th>\n",
       "      <th>H4</th>\n",
       "      <th>H5</th>\n",
       "      <th>H6</th>\n",
       "      <th>H7</th>\n",
       "      <th>H8</th>\n",
       "      <th>H9</th>\n",
       "      <th>H10</th>\n",
       "      <th>H11</th>\n",
       "      <th>H12</th>\n",
       "      <th>Time</th>\n",
       "    </tr>\n",
       "  </thead>\n",
       "  <tbody>\n",
       "    <tr>\n",
       "      <th>0</th>\n",
       "      <td>1</td>\n",
       "      <td>0.0</td>\n",
       "      <td>37.2</td>\n",
       "      <td>0.1128</td>\n",
       "      <td>0.1118</td>\n",
       "      <td>0.1186</td>\n",
       "      <td>0.1213</td>\n",
       "      <td>0.1131</td>\n",
       "      <td>0.1111</td>\n",
       "      <td>0.1178</td>\n",
       "      <td>...</td>\n",
       "      <td>0.1240</td>\n",
       "      <td>0.1352</td>\n",
       "      <td>0.1266</td>\n",
       "      <td>0.1147</td>\n",
       "      <td>0.1157</td>\n",
       "      <td>0.1084</td>\n",
       "      <td>0.1177</td>\n",
       "      <td>0.1217</td>\n",
       "      <td>0.1110</td>\n",
       "      <td>0.000000</td>\n",
       "    </tr>\n",
       "    <tr>\n",
       "      <th>1</th>\n",
       "      <td>2</td>\n",
       "      <td>1136.9</td>\n",
       "      <td>37.4</td>\n",
       "      <td>0.1164</td>\n",
       "      <td>0.1151</td>\n",
       "      <td>0.1189</td>\n",
       "      <td>0.1209</td>\n",
       "      <td>0.1173</td>\n",
       "      <td>0.1144</td>\n",
       "      <td>0.1221</td>\n",
       "      <td>...</td>\n",
       "      <td>0.1229</td>\n",
       "      <td>0.1386</td>\n",
       "      <td>0.1289</td>\n",
       "      <td>0.1154</td>\n",
       "      <td>0.1211</td>\n",
       "      <td>0.1103</td>\n",
       "      <td>0.1216</td>\n",
       "      <td>0.1208</td>\n",
       "      <td>0.1130</td>\n",
       "      <td>0.315806</td>\n",
       "    </tr>\n",
       "    <tr>\n",
       "      <th>2</th>\n",
       "      <td>3</td>\n",
       "      <td>2273.7</td>\n",
       "      <td>37.3</td>\n",
       "      <td>0.1221</td>\n",
       "      <td>0.1260</td>\n",
       "      <td>0.1242</td>\n",
       "      <td>0.1251</td>\n",
       "      <td>0.1247</td>\n",
       "      <td>0.1222</td>\n",
       "      <td>0.1312</td>\n",
       "      <td>...</td>\n",
       "      <td>0.1350</td>\n",
       "      <td>0.1431</td>\n",
       "      <td>0.1373</td>\n",
       "      <td>0.1219</td>\n",
       "      <td>0.1258</td>\n",
       "      <td>0.1175</td>\n",
       "      <td>0.1276</td>\n",
       "      <td>0.1408</td>\n",
       "      <td>0.1080</td>\n",
       "      <td>0.631583</td>\n",
       "    </tr>\n",
       "    <tr>\n",
       "      <th>3</th>\n",
       "      <td>4</td>\n",
       "      <td>3410.5</td>\n",
       "      <td>37.3</td>\n",
       "      <td>0.1315</td>\n",
       "      <td>0.1405</td>\n",
       "      <td>0.1335</td>\n",
       "      <td>0.1338</td>\n",
       "      <td>0.1342</td>\n",
       "      <td>0.1321</td>\n",
       "      <td>0.1469</td>\n",
       "      <td>...</td>\n",
       "      <td>0.1586</td>\n",
       "      <td>0.1493</td>\n",
       "      <td>0.1455</td>\n",
       "      <td>0.1362</td>\n",
       "      <td>0.1349</td>\n",
       "      <td>0.1263</td>\n",
       "      <td>0.1374</td>\n",
       "      <td>0.1777</td>\n",
       "      <td>0.1104</td>\n",
       "      <td>0.947361</td>\n",
       "    </tr>\n",
       "    <tr>\n",
       "      <th>4</th>\n",
       "      <td>5</td>\n",
       "      <td>4547.4</td>\n",
       "      <td>36.9</td>\n",
       "      <td>0.1451</td>\n",
       "      <td>0.1464</td>\n",
       "      <td>0.1467</td>\n",
       "      <td>0.1470</td>\n",
       "      <td>0.1486</td>\n",
       "      <td>0.1465</td>\n",
       "      <td>0.1584</td>\n",
       "      <td>...</td>\n",
       "      <td>0.1500</td>\n",
       "      <td>0.1622</td>\n",
       "      <td>0.1593</td>\n",
       "      <td>0.1481</td>\n",
       "      <td>0.1477</td>\n",
       "      <td>0.1385</td>\n",
       "      <td>0.1554</td>\n",
       "      <td>0.1537</td>\n",
       "      <td>0.1089</td>\n",
       "      <td>1.263167</td>\n",
       "    </tr>\n",
       "  </tbody>\n",
       "</table>\n",
       "<p>5 rows × 100 columns</p>\n",
       "</div>"
      ],
      "text/plain": [
       "   Cycle Nr.  Time [s]  Temp. [°C]      A1      A2      A3      A4      A5  \\\n",
       "0          1       0.0        37.2  0.1128  0.1118  0.1186  0.1213  0.1131   \n",
       "1          2    1136.9        37.4  0.1164  0.1151  0.1189  0.1209  0.1173   \n",
       "2          3    2273.7        37.3  0.1221  0.1260  0.1242  0.1251  0.1247   \n",
       "3          4    3410.5        37.3  0.1315  0.1405  0.1335  0.1338  0.1342   \n",
       "4          5    4547.4        36.9  0.1451  0.1464  0.1467  0.1470  0.1486   \n",
       "\n",
       "       A6      A7    ...         H4      H5      H6      H7      H8      H9  \\\n",
       "0  0.1111  0.1178    ...     0.1240  0.1352  0.1266  0.1147  0.1157  0.1084   \n",
       "1  0.1144  0.1221    ...     0.1229  0.1386  0.1289  0.1154  0.1211  0.1103   \n",
       "2  0.1222  0.1312    ...     0.1350  0.1431  0.1373  0.1219  0.1258  0.1175   \n",
       "3  0.1321  0.1469    ...     0.1586  0.1493  0.1455  0.1362  0.1349  0.1263   \n",
       "4  0.1465  0.1584    ...     0.1500  0.1622  0.1593  0.1481  0.1477  0.1385   \n",
       "\n",
       "      H10     H11     H12      Time  \n",
       "0  0.1177  0.1217  0.1110  0.000000  \n",
       "1  0.1216  0.1208  0.1130  0.315806  \n",
       "2  0.1276  0.1408  0.1080  0.631583  \n",
       "3  0.1374  0.1777  0.1104  0.947361  \n",
       "4  0.1554  0.1537  0.1089  1.263167  \n",
       "\n",
       "[5 rows x 100 columns]"
      ]
     },
     "execution_count": 194,
     "metadata": {},
     "output_type": "execute_result"
    }
   ],
   "source": [
    "fname = r'../data/Yoav_311214c_only_OD.csv'\n",
    "df = pd.read_csv(fname)\n",
    "df.head()"
   ]
  },
  {
   "cell_type": "markdown",
   "metadata": {},
   "source": [
    "We don't need the `Time [s]` column (we got `Time` in hours) and we don't need `Temp. [°C]`, so we drop these columns.\n",
    "\n",
    "Then we [melt](http://pandas.pydata.org/pandas-docs/stable/generated/pandas.melt.html) the data. That means that we transform our data from a matrix format (one row per timepoint, one column per well + columns for other variables such as time) into a data frame format (one row for each measurement, with one column for each measurement variable). "
   ]
  },
  {
   "cell_type": "code",
   "execution_count": 195,
   "metadata": {},
   "outputs": [
    {
     "data": {
      "text/html": [
       "<div>\n",
       "<style scoped>\n",
       "    .dataframe tbody tr th:only-of-type {\n",
       "        vertical-align: middle;\n",
       "    }\n",
       "\n",
       "    .dataframe tbody tr th {\n",
       "        vertical-align: top;\n",
       "    }\n",
       "\n",
       "    .dataframe thead th {\n",
       "        text-align: right;\n",
       "    }\n",
       "</style>\n",
       "<table border=\"1\" class=\"dataframe\">\n",
       "  <thead>\n",
       "    <tr style=\"text-align: right;\">\n",
       "      <th></th>\n",
       "      <th>Time</th>\n",
       "      <th>Cycle Nr.</th>\n",
       "      <th>Well</th>\n",
       "      <th>OD</th>\n",
       "    </tr>\n",
       "  </thead>\n",
       "  <tbody>\n",
       "    <tr>\n",
       "      <th>0</th>\n",
       "      <td>0.000000</td>\n",
       "      <td>1</td>\n",
       "      <td>A1</td>\n",
       "      <td>0.1128</td>\n",
       "    </tr>\n",
       "    <tr>\n",
       "      <th>1</th>\n",
       "      <td>0.315806</td>\n",
       "      <td>2</td>\n",
       "      <td>A1</td>\n",
       "      <td>0.1164</td>\n",
       "    </tr>\n",
       "    <tr>\n",
       "      <th>2</th>\n",
       "      <td>0.631583</td>\n",
       "      <td>3</td>\n",
       "      <td>A1</td>\n",
       "      <td>0.1221</td>\n",
       "    </tr>\n",
       "    <tr>\n",
       "      <th>3</th>\n",
       "      <td>0.947361</td>\n",
       "      <td>4</td>\n",
       "      <td>A1</td>\n",
       "      <td>0.1315</td>\n",
       "    </tr>\n",
       "    <tr>\n",
       "      <th>4</th>\n",
       "      <td>1.263167</td>\n",
       "      <td>5</td>\n",
       "      <td>A1</td>\n",
       "      <td>0.1451</td>\n",
       "    </tr>\n",
       "  </tbody>\n",
       "</table>\n",
       "</div>"
      ],
      "text/plain": [
       "       Time  Cycle Nr. Well      OD\n",
       "0  0.000000          1   A1  0.1128\n",
       "1  0.315806          2   A1  0.1164\n",
       "2  0.631583          3   A1  0.1221\n",
       "3  0.947361          4   A1  0.1315\n",
       "4  1.263167          5   A1  0.1451"
      ]
     },
     "execution_count": 195,
     "metadata": {},
     "output_type": "execute_result"
    }
   ],
   "source": [
    "df = df.drop(axis=1, labels=['Time [s]', 'Temp. [°C]'])\n",
    "df = pd.melt(df, id_vars=('Time','Cycle Nr.'), var_name='Well', value_name='OD')\n",
    "df.head()"
   ]
  },
  {
   "cell_type": "markdown",
   "metadata": {},
   "source": [
    "Now let's add a column for the plate row (A - H) and the plate columns (1 - 12). We will use a [list comprehension](http://python-3-patterns-idioms-test.readthedocs.org/en/latest/Comprehensions.html) for that:"
   ]
  },
  {
   "cell_type": "code",
   "execution_count": 196,
   "metadata": {},
   "outputs": [
    {
     "data": {
      "text/html": [
       "<div>\n",
       "<style scoped>\n",
       "    .dataframe tbody tr th:only-of-type {\n",
       "        vertical-align: middle;\n",
       "    }\n",
       "\n",
       "    .dataframe tbody tr th {\n",
       "        vertical-align: top;\n",
       "    }\n",
       "\n",
       "    .dataframe thead th {\n",
       "        text-align: right;\n",
       "    }\n",
       "</style>\n",
       "<table border=\"1\" class=\"dataframe\">\n",
       "  <thead>\n",
       "    <tr style=\"text-align: right;\">\n",
       "      <th></th>\n",
       "      <th>Time</th>\n",
       "      <th>Cycle Nr.</th>\n",
       "      <th>Well</th>\n",
       "      <th>OD</th>\n",
       "      <th>Row</th>\n",
       "      <th>Col</th>\n",
       "    </tr>\n",
       "  </thead>\n",
       "  <tbody>\n",
       "    <tr>\n",
       "      <th>0</th>\n",
       "      <td>0.000000</td>\n",
       "      <td>1</td>\n",
       "      <td>A1</td>\n",
       "      <td>0.1128</td>\n",
       "      <td>A</td>\n",
       "      <td>1</td>\n",
       "    </tr>\n",
       "    <tr>\n",
       "      <th>1</th>\n",
       "      <td>0.315806</td>\n",
       "      <td>2</td>\n",
       "      <td>A1</td>\n",
       "      <td>0.1164</td>\n",
       "      <td>A</td>\n",
       "      <td>1</td>\n",
       "    </tr>\n",
       "    <tr>\n",
       "      <th>2</th>\n",
       "      <td>0.631583</td>\n",
       "      <td>3</td>\n",
       "      <td>A1</td>\n",
       "      <td>0.1221</td>\n",
       "      <td>A</td>\n",
       "      <td>1</td>\n",
       "    </tr>\n",
       "    <tr>\n",
       "      <th>3</th>\n",
       "      <td>0.947361</td>\n",
       "      <td>4</td>\n",
       "      <td>A1</td>\n",
       "      <td>0.1315</td>\n",
       "      <td>A</td>\n",
       "      <td>1</td>\n",
       "    </tr>\n",
       "    <tr>\n",
       "      <th>4</th>\n",
       "      <td>1.263167</td>\n",
       "      <td>5</td>\n",
       "      <td>A1</td>\n",
       "      <td>0.1451</td>\n",
       "      <td>A</td>\n",
       "      <td>1</td>\n",
       "    </tr>\n",
       "  </tbody>\n",
       "</table>\n",
       "</div>"
      ],
      "text/plain": [
       "       Time  Cycle Nr. Well      OD Row  Col\n",
       "0  0.000000          1   A1  0.1128   A    1\n",
       "1  0.315806          2   A1  0.1164   A    1\n",
       "2  0.631583          3   A1  0.1221   A    1\n",
       "3  0.947361          4   A1  0.1315   A    1\n",
       "4  1.263167          5   A1  0.1451   A    1"
      ]
     },
     "execution_count": 196,
     "metadata": {},
     "output_type": "execute_result"
    }
   ],
   "source": [
    "def well2row(well):\n",
    "    return well[0]\n",
    "def well2col(well):\n",
    "    return int(well[1:])\n",
    "df['Row'] = [well2row(x) for x in df.Well]\n",
    "df['Col'] = [well2col(x) for x in df.Well]\n",
    "df.head()"
   ]
  },
  {
   "cell_type": "markdown",
   "metadata": {},
   "source": [
    "Finally the data is **prepared** and we are ready to explore it.\n",
    "Let's start by plotting the OD over time curve of every well - just to make sure we know what we have in our hands.\n",
    "\n",
    "We use `seaborn.FacetGrid` which allows us to easily-ish make faceted plots. We need to specific the DataFrame columns on which we want to facet (these are the `Col` and `Row` we just created) and we can specify a bunch of styling options too. `FacetGrid` will break the data into smaller data sets according to our instructions. We can also specify which column controls the `hue` (color) of the plots.\n",
    "\n",
    "Then we can `map` a function to each of the facets. We give the function and then the columns that should be used as the function arguments."
   ]
  },
  {
   "cell_type": "code",
   "execution_count": 197,
   "metadata": {},
   "outputs": [
    {
     "data": {
      "image/png": "[encoded data removed]",
      "text/plain": [
       "<matplotlib.figure.Figure at 0x11fb87cc0>"
      ]
     },
     "metadata": {},
     "output_type": "display_data"
    }
   ],
   "source": [
    "g = sns.FacetGrid(\n",
    "    data=df, \n",
    "    col='Col', \n",
    "    row='Row', \n",
    "    hue='Well', \n",
    "    sharex=True, \n",
    "    sharey=True, \n",
    "    size=0.75,\n",
    "    aspect=12./8, \n",
    "    despine=True, \n",
    "    margin_titles=True\n",
    ")\n",
    "g.map(plt.plot, 'Time', 'OD')\n",
    "\n",
    "plt.locator_params(nbins=4) # 4 ticks is enough\n",
    "g.set_axis_labels('', '')    # remove facets axis labels\n",
    "g.fig.text(0.5, 0, 'Time', size='x-large') # xlabel\n",
    "g.fig.text(-0.01, 0.5, 'OD', size='x-large', rotation='vertical') # ylabel\n",
    "g.fig.tight_layout()"
   ]
  },
  {
   "cell_type": "markdown",
   "metadata": {},
   "source": [
    "You might notice that the curves in G12 and H12 are constant - these are the blank/control wells. Let's get rid of them:"
   ]
  },
  {
   "cell_type": "code",
   "execution_count": 198,
   "metadata": {},
   "outputs": [],
   "source": [
    "df = df[(df.Well != 'G12') & (df.Well != 'H12')]"
   ]
  },
  {
   "cell_type": "markdown",
   "metadata": {},
   "source": [
    "In order to fit a logistic curve to the data we need to calculate the average curve. This is easy (once you learn how to do it) in _pandas_. The idea is: we _split_ the data by one or more columns. Rows with the same values in these columns will be _grouped_ together. We then _apply_ an aggregation to these groups, meaning we make a single row out of each group. We then _combine_ the rows back together into a single data frame.\n",
    "\n",
    "This strategy is known as _split-apply_combine_ and it is a very powerful strategy to work with data frames. One of it's powers is that it easily extends to parallel computing because the _apply_ part can be done in parallel over the different groups.\n",
    "\n",
    "Using [Pandas](http://pandas.pydata.org/pandas-docs/stable/groupby.html) we will split using the `groupby` method; we will aggregate using `mean` (for general aggregations use `aggregate`); we will then resetthe indices (which were lost during the aggregation) with `reset_index`.\n",
    "\n",
    "We want the mean OD value for each time point so we group by `Time` and aggregate with `mean`."
   ]
  },
  {
   "cell_type": "code",
   "execution_count": 214,
   "metadata": {},
   "outputs": [
    {
     "data": {
      "text/html": [
       "<div>\n",
       "<style scoped>\n",
       "    .dataframe tbody tr th:only-of-type {\n",
       "        vertical-align: middle;\n",
       "    }\n",
       "\n",
       "    .dataframe tbody tr th {\n",
       "        vertical-align: top;\n",
       "    }\n",
       "\n",
       "    .dataframe thead th {\n",
       "        text-align: right;\n",
       "    }\n",
       "</style>\n",
       "<table border=\"1\" class=\"dataframe\">\n",
       "  <thead>\n",
       "    <tr style=\"text-align: right;\">\n",
       "      <th></th>\n",
       "      <th>Time</th>\n",
       "      <th>OD</th>\n",
       "    </tr>\n",
       "  </thead>\n",
       "  <tbody>\n",
       "    <tr>\n",
       "      <th>0</th>\n",
       "      <td>0.000000</td>\n",
       "      <td>0.115427</td>\n",
       "    </tr>\n",
       "    <tr>\n",
       "      <th>1</th>\n",
       "      <td>0.315806</td>\n",
       "      <td>0.119079</td>\n",
       "    </tr>\n",
       "    <tr>\n",
       "      <th>2</th>\n",
       "      <td>0.631583</td>\n",
       "      <td>0.125883</td>\n",
       "    </tr>\n",
       "    <tr>\n",
       "      <th>3</th>\n",
       "      <td>0.947361</td>\n",
       "      <td>0.136205</td>\n",
       "    </tr>\n",
       "    <tr>\n",
       "      <th>4</th>\n",
       "      <td>1.263167</td>\n",
       "      <td>0.150218</td>\n",
       "    </tr>\n",
       "  </tbody>\n",
       "</table>\n",
       "</div>"
      ],
      "text/plain": [
       "       Time        OD\n",
       "0  0.000000  0.115427\n",
       "1  0.315806  0.119079\n",
       "2  0.631583  0.125883\n",
       "3  0.947361  0.136205\n",
       "4  1.263167  0.150218"
      ]
     },
     "execution_count": 214,
     "metadata": {},
     "output_type": "execute_result"
    }
   ],
   "source": [
    "grouped = df.groupby('Time')\n",
    "aggregated = grouped.OD.mean().reset_index()\n",
    "aggregated.head()"
   ]
  },
  {
   "cell_type": "markdown",
   "metadata": {},
   "source": [
    "Let's plot:"
   ]
  },
  {
   "cell_type": "code",
   "execution_count": 216,
   "metadata": {},
   "outputs": [
    {
     "data": {
      "image/png": "[encoded data removed]",
      "text/plain": [
       "<matplotlib.figure.Figure at 0x1229e2898>"
      ]
     },
     "metadata": {},
     "output_type": "display_data"
    }
   ],
   "source": [
    "t = aggregated.Time\n",
    "N = aggregated.OD\n",
    "\n",
    "plt.scatter(t, N)\n",
    "plt.xlabel('Time')\n",
    "plt.ylabel('Mean OD')\n",
    "plt.axvline(x=10, color='gray')\n",
    "sns.despine()"
   ]
  },
  {
   "cell_type": "markdown",
   "metadata": {},
   "source": [
    "You might notice that after about 11 hours the population size starts to decrease. This is an artifact of the experiments, due to the wells starting to dry out. Let's drop this data:"
   ]
  },
  {
   "cell_type": "code",
   "execution_count": 217,
   "metadata": {},
   "outputs": [
    {
     "data": {
      "image/png": "[encoded data removed]",
      "text/plain": [
       "<matplotlib.figure.Figure at 0x122a0b828>"
      ]
     },
     "metadata": {},
     "output_type": "display_data"
    }
   ],
   "source": [
    "N = N[t<10]\n",
    "t = t[t<10]\n",
    "\n",
    "plt.scatter(t, N)\n",
    "plt.xlabel('Time')\n",
    "plt.ylabel('Mean OD')\n",
    "sns.despine()"
   ]
  },
  {
   "cell_type": "markdown",
   "metadata": {},
   "source": [
    "Now, finally, to the fitting (80% is data preparation!):"
   ]
  },
  {
   "cell_type": "code",
   "execution_count": 218,
   "metadata": {},
   "outputs": [
    {
     "name": "stdout",
     "output_type": "stream",
     "text": [
      "N0=0.081, K=0.611, r=0.605392\n",
      "MSE: 0.000127826579345\n"
     ]
    },
    {
     "data": {
      "image/png": "[encoded data removed]",
      "text/plain": [
       "<matplotlib.figure.Figure at 0x1228440f0>"
      ]
     },
     "metadata": {},
     "output_type": "display_data"
    }
   ],
   "source": [
    "popt, cov = curve_fit(logistic, t, N, (N.min(), N.max(), 1))\n",
    "N0, K, r = popt\n",
    "Nhat = logistic(t, N0, K, r)\n",
    "print('N0={0:.3f}, K={1:.3f}, r={2:.6f}'.format(N0, K, r))\n",
    "print(\"MSE:\", ((N - Nhat)**2).mean())\n",
    "\n",
    "plt.scatter(t, N)\n",
    "plt.plot(t, Nhat, '-k')\n",
    "plt.xlabel('Time')\n",
    "plt.ylabel('OD')\n",
    "sns.despine();"
   ]
  },
  {
   "cell_type": "markdown",
   "metadata": {},
   "source": [
    "The fit is... ok, but not that good for the begining or the end.\n",
    "The results have a clear interpretation:\n",
    "- the inferred initial density is ~0.08\n",
    "- the inferred maximum density is ~0.61\n",
    "- the inferred specific growth rate is ~0.6, which means that the bacteria divide approx every 36 minutes, which is in the acceptable range (see [Table 2](http://textbookofbacteriology.net/growth_3.html))."
   ]
  },
  {
   "cell_type": "markdown",
   "metadata": {},
   "source": [
    "## Exercise - Gompertz model\n",
    "\n",
    "Another common growth model is the [Gompertz model](https://en.wikipedia.org/wiki/Gompertz_function):\n",
    "\n",
    "$$\n",
    "N(t)= K \\Big(\\frac{N_0}{K}\\Big)^{e^{-rt}}\n",
    "$$\n",
    "\n",
    "with the same parameter definitions as the logistic model.\n",
    "\n",
    "1. Fit the Gompertz model to the data.\n",
    "1. Print the MSE of the fit.\n",
    "1. Plot the fitted curve with the data.\n",
    "1. Which is a better fit? The Gompertz model or the logistic model? Since they have the same number of parameters, and assuming MSE is equivalent to the likelihood (i.e. assuming normal residuals), the model with the lower MSE is the better fit.\n",
    "\n",
    "See [Solution code](https://github.com/yoavram/Py4Eng/blob/master/solutions/gompertz-curve-fitting.py)."
   ]
  },
  {
   "cell_type": "code",
   "execution_count": null,
   "metadata": {},
   "outputs": [],
   "source": []
  },
  {
   "cell_type": "markdown",
   "metadata": {},
   "source": [
    "# References\n",
    "\n",
    "- [How to solve the exponential ODE](https://www.youtube.com/watch?v=mhO9eL9Nuz0)"
   ]
  },
  {
   "cell_type": "markdown",
   "metadata": {},
   "source": [
    "## Colophon\n",
    "This notebook was written by [Yoav Ram](http://python.yoavram.com) and is part of the [_Python for Engineers_](https://github.com/yoavram/Py4Eng) course.\n",
    "\n",
    "The notebook was written using [Python](http://python.org/) 3.6.1.\n",
    "Dependencies listed in [environment.yml](../environment.yml), full versions in [environment_full.yml](../environment_full.yml).\n",
    "\n",
    "This work is licensed under a CC BY-NC-SA 4.0 International License.\n",
    "\n",
    "![Python logo](https://www.python.org/static/community_logos/python-logo.png)"
   ]
  }
 ],
 "metadata": {
  "kernelspec": {
   "display_name": "Python [conda env:scipy]",
   "language": "python",
   "name": "conda-env-scipy-py"
  },
  "language_info": {
   "codemirror_mode": {
    "name": "ipython",
    "version": 3
   },
   "file_extension": ".py",
   "mimetype": "text/x-python",
   "name": "python",
   "nbconvert_exporter": "python",
   "pygments_lexer": "ipython3",
   "version": "3.6.3"
  }
 },
 "nbformat": 4,
 "nbformat_minor": 1
}
