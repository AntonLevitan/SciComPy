{
 "cells": [
  {
   "cell_type": "markdown",
   "metadata": {},
   "source": [
    "# Dynamic Modelling with Python\n",
    "## [Yoav Ram](http://python.yoavram.com)"
   ]
  },
  {
   "cell_type": "markdown",
   "metadata": {},
   "source": [
    "In this one-day workshop we will introduce the topic of continuous-time dynamic models.\n",
    "\n",
    "We will discuss both deterministic and stochastic models and present one-dimensional and multi-dimensional models. Examples will include exponential and logistic growth, predator-prey dynamics, molecular dynamics, and social networks dynamics. We will discuss how to construct and analyze models, how to determine equilibria and stability, and how to fit models to “small data” using both maximum likelihood and likelihood-free methods.\n",
    "This workshop is intended for engineers and data scientists with experience in the Python programming language and its scientific packages (NumPy, Matplotlib, etc.)\n",
    "\n",
    "The workshop combines theoretical and practical perspectives and will be taught using interactive Jupyter notebooks.\n",
    "\n",
    "- *Date*: December 25, 2018\n",
    "- *Time*: 9:00-17:00 with 1 hour break for lunch\n",
    "- *Location*: BlueVine offices, 24th Floor, Alon Tower 1, Yigal Alon 94A, Tel-Aviv\n",
    "- *Setup*: [Anaconda with Python 3](https://www.anaconda.com/download/) (prefer 3.6 over 3.7 at this time)."
   ]
  },
  {
   "cell_type": "markdown",
   "metadata": {},
   "source": [
    "## Table of Contents\n",
    "\n",
    "1. **Population genetics**: Deterministic and stochastic discrete-time single-variable models | [notebook](notebooks/population-genetics.ipynb) | [assignment](assignments/A1.ipynb) | [solution](solutions/A1.ipynb)\n",
    "1. **Population growth**: Deterministic single-variable continuous-time models | [notebook](notebooks/population-growth.ipynb) | [stability analysis](notebooks/stability.ipynb) \n",
    "1. **Population dynamics**: Deterministic multi-variable continuous-time models | [notebook](notebooks/lotka-volterra.ipynb)\n",
    "1. **Molecular dynamics**: Stochastic multi-variable continuous-time models | [notebook](notebooks/gillespie.ipynb) | [numba](notebooks/numba.ipynb) | [assignment](assignments/A4.ipynb)\n",
    "1. **Approximate Bayesian computation**: Likelihood-free fitting of complex stochastic models | [notebook](notebooks/ABC.ipynb) | [assignment](assignments/A4.ipynb) "
   ]
  }
 ],
 "metadata": {
  "kernelspec": {
   "display_name": "Python [default]",
   "language": "python",
   "name": "python3"
  },
  "language_info": {
   "codemirror_mode": {
    "name": "ipython",
    "version": 3
   },
   "file_extension": ".py",
   "mimetype": "text/x-python",
   "name": "python",
   "nbconvert_exporter": "python",
   "pygments_lexer": "ipython3",
   "version": "3.6.5"
  }
 },
 "nbformat": 4,
 "nbformat_minor": 2
}
