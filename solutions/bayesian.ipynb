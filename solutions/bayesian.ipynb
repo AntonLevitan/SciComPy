{
 "cells": [
  {
   "cell_type": "markdown",
   "metadata": {},
   "source": [
    "# Gaussian prior"
   ]
  },
  {
   "cell_type": "code",
   "execution_count": null,
   "metadata": {},
   "outputs": [],
   "source": [
    "def log_prior_gaussian(μ):\n",
    "    return scipy.stats.norm(X.mean(), X.std()/np.sqrt(X.size)).logpdf(μ)\n",
    "\n",
    "μ_range = np.linspace(X.min(), X.max(), 100)\n",
    "pri = np.exp([log_prior_gaussian(μ_) for μ_ in μ_range])\n",
    "lik = np.exp([log_likelihood(μ_, X) for μ_ in μ_range])\n",
    "post = np.exp([log_posterior(μ_, X) for μ_ in μ_range])\n",
    "μ_hat = μ_range[post.argmax()] # maximum a posterioi estimate\n",
    "\n",
    "plt.plot(μ_range, pri/pri.sum(), label='prior')\n",
    "plt.plot(μ_range, lik/lik.sum(), lw=3, label='likelihood')\n",
    "plt.plot(μ_range, post/post.sum(), ls='--', label='posterior')\n",
    "plt.plot(μ, np.exp(log_posterior(μ, X))/post.sum(), 'o', color=red, label='$μ$')\n",
    "plt.plot(μ_hat, np.exp(log_likelihood(μ_hat, X))/post.sum(), 'o', color=green, label='$\\hat{μ}$')\n",
    "\n",
    "plt.xlabel(\"Flux\")\n",
    "plt.ylabel(\"Probability\")\n",
    "plt.yscale(\"log\")\n",
    "plt.xlim(950, 1050)\n",
    "plt.ylim(1e-32, 1)\n",
    "plt.legend(bbox_to_anchor=(1, 0.3))\n",
    "sns.despine()"
   ]
  }
 ],
 "metadata": {
  "kernelspec": {
   "display_name": "Python 3",
   "language": "python",
   "name": "python3"
  },
  "language_info": {
   "codemirror_mode": {
    "name": "ipython",
    "version": 3
   },
   "file_extension": ".py",
   "mimetype": "text/x-python",
   "name": "python",
   "nbconvert_exporter": "python",
   "pygments_lexer": "ipython3",
   "version": "3.7.3"
  }
 },
 "nbformat": 4,
 "nbformat_minor": 4
}
