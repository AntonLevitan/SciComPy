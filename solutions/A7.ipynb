{
 "cells": [
  {
   "cell_type": "markdown",
   "metadata": {},
   "source": [
    "# Assignment 7: Neural networks\n",
    "\n",
    "## [Scientific Computing with Python](http://scicompy.yoavram.com)\n",
    "## Yoav Ram\n",
    "\n",
    "# General instructions\n",
    "\n",
    "1. Do not remove any text or code cells; do not leave redundent print messages.\n",
    "1. When instructed to implement a function, use the given function names and parameters lists; failure to do so may cause test functions to fail during grading.\n",
    "1. When instructed to generate a plot, make sure that the plot is clear, that axes are propely labeled, and that the notebook is saved with the plot inline, so that the grader can see the plot without running the code. Make sure that you re-generate the plot if you changed the code!\n",
    "1. Code lines with a triple comment `###` should not be removed or modified, they are used for automatic grading.\n",
    "1. Note that there are 3 exercises and the last cell in the notebook says **end of assignment**; if you are missing anything please download the origianl file from the course website.\n",
    "1. Your code should run within a reasonable time (a few minutes) and you should use idioms learned in class, e.g. array opreations, numba, multiprocessig.\n",
    "1. Questions regarding the exercises should be posted to the course forum at the designated group (i.e. \"assignment7\"). You can post questions anonymously. You can also visit the Office Hours, but please do not email the course staff with questions about the exercise.\n",
    "1. Intructions for submitting the exercise are on the [course website](https://scicompy.yoavram.com/assignments).\n",
    "\n",
    "# Cloud computing with GPU\n",
    "\n",
    "**In Ex 2 and Ex 3 there is a benefit in running on a computer with a GPU. There are two ways to do that:**\n",
    "1. Use [**Google Colaboratory**](http://colab.research.google.com) (free.) Colaboratory provides free GPU usage for 12 hours inside a Jupyter notebook. Once you are inside colaboratory, upload this notebook, and change the runtime to Python 3 + GPU. Don't forget to download your notebook when you finish (from the File menu), although it will be saved in your Google Docs.\n",
    "\n",
    "1. Use **AWS Educate**. You can sign up for an AWS Educate account without a credict card, and get some free credits to use for AWS services. You can get an additional \\$50 for this course - just ask for it on Piazza and allow for 24 hrs.\n",
    "[Instructions are provided](https://aws.amazon.com/blogs/machine-learning/get-started-with-deep-learning-using-the-aws-deep-learning-ami/) for setting up a deep learning environment with conda, jupyter, and keras. Note that when you go over the credit limit (\\$50) your account will be suspended and you will not have access to your work, so plan accordingly. Some GPU-enabled instances estimated  costs are: p2.xlarge (Tesla K80) 22 USD/day; p3.2xlarge (2 x Tesla v100) 75 USD/day; p3.16xlarge (8 x Tesla v100) 600 USD/day. At this stage you should probably take the cheapest one.\n",
    "\n",
    "It may be worth the effort: epochs on the dataset used in Ex 2 and Ex 3 take about 15 secs on colaboratory, compared to 40 secs on my laptop. \n",
    "But it is not mandatory to work with a GPU, you can use your local CPU."
   ]
  },
  {
   "cell_type": "code",
   "execution_count": 1,
   "metadata": {},
   "outputs": [],
   "source": [
    "%matplotlib inline\n",
    "import numpy as np\n",
    "import matplotlib.pyplot as plt\n",
    "from tensorflow import keras\n",
    "import scipy.stats\n",
    "import seaborn as sns\n",
    "sns.set_context('notebook')"
   ]
  },
  {
   "cell_type": "code",
   "execution_count": 2,
   "metadata": {},
   "outputs": [],
   "source": [
    "# this code is required for Ex 1\n",
    "def display_image(im):\n",
    "    plt.imshow(im.reshape((28, 28)), cmap='gray_r')\n",
    "    plt.xticks([])\n",
    "    plt.yticks([])\n",
    "    \n",
    "def fully_connected(ninputs, noutputs):\n",
    "    boundary = np.sqrt(6 / (ninputs + noutputs))\n",
    "    return np.random.uniform(-boundary, boundary, size=(ninputs, noutputs))\n",
    "\n",
    "def softmax(x):\n",
    "    expx = np.exp(x - x.max(axis=1, keepdims=True))\n",
    "    return expx / expx.sum(axis=1, keepdims=True)\n",
    "\n",
    "def accuracy(Yhat, Y):\n",
    "    return (Y.argmax(axis=1) == Yhat.argmax(axis=1)).mean()\n",
    "\n",
    "def cross_entropy(Yhat, Y):\n",
    "    ylogy = Y * np.log(Yhat)\n",
    "    return -ylogy.sum()\n",
    "\n",
    "def ReLU(X):\n",
    "    return np.maximum(X, 0)\n",
    "\n",
    "def dReLU(X):\n",
    "    return (X > 0).astype(float)\n",
    "\n",
    "def drop(X, keep_prob=1):\n",
    "    if keep_prob < 1:\n",
    "        X = X.copy() # we don't want to change X\n",
    "        keeps = np.random.rand(X.shape[1]) < keep_prob\n",
    "        # X.shape is (nsamples, nfeatures)\n",
    "        X[:, ~keeps] = 0 # ignore\n",
    "        X[:, keeps] *= (1/keep_prob) # normalize\n",
    "    return X\n",
    "\n",
    "def predict(Ws, X):\n",
    "    if X.ndim == 1:\n",
    "        X = X.reshape((1, -1))\n",
    "    return feed_forward(Ws, X, keep_prob=1)[-1]\n",
    "\n",
    "def display_prediction(idx):\n",
    "    prediction = predict(Ws, X_test[idx, :]).argmax()\n",
    "    print(prediction)\n",
    "    return display_image(X_test[idx])\n",
    "\n",
    "def loss(Ws, X, Y):\n",
    "    Yhat = predict(Ws, X)\n",
    "    return cross_entropy(Yhat, Y)\n",
    "\n",
    "def gradient_check(Ws, X, Y, Δ=1e-5):\n",
    "    dWs = back_propagation(Ws, X, Y, keep_prob=1)\n",
    "    Ws_ = [W.copy() for W in Ws]\n",
    "\n",
    "    for i, (W_, dW_) in enumerate(zip(Ws_, dWs)):\n",
    "        print('W{}'.format(i+1))\n",
    "        for i in range(W_.shape[0]):\n",
    "            for j in range(W_.shape[1]):\n",
    "                dw = dW_[i, j]\n",
    "                W_[i,j] += Δ\n",
    "                loss1 = loss(Ws_, X, Y)\n",
    "                W_[i,j] -= 2*Δ\n",
    "                loss2 = loss(Ws_, X, Y)\n",
    "                W_[i,j] += Δ\n",
    "                dw_ = (loss1 - loss2) / (2 * Δ)\n",
    "                rel_error = abs(dw - dw_) / abs(dw + dw_)\n",
    "                if not np.isclose(dw_, dw):\n",
    "                    print(i, j, dw, dw_, rel_error)\n",
    "                    \n",
    "def average(prev, curr, β):\n",
    "    return [\n",
    "        β * p + (1 - β) * c\n",
    "        for p, c\n",
    "        in zip(prev, curr)\n",
    "    ]\n",
    "    \n",
    "class AdamOptimizer:\n",
    "    def __init__(self, α=0.001, β1=0.9, β2=0.999, ϵ=1e-8):\n",
    "        self.α = α\n",
    "        self.β1 = β1\n",
    "        self.β2 = β2\n",
    "        self.ϵ = ϵ\n",
    "        self.m = None\n",
    "        self.v = None\n",
    "        self.t = 0\n",
    "\n",
    "    def send(self, gradients):\n",
    "        if self.m is None:\n",
    "            self.m = [0] * len(gradients)\n",
    "        if self.v is None:\n",
    "            self.v = [0] * len(gradients)\n",
    "\n",
    "        self.t += 1\n",
    "        αt = self.α * np.sqrt(1 - self.β2**self.t) / (1 - self.β1**self.t)\n",
    "        self.m = average(self.m, gradients, self.β1)        \n",
    "        self.v = average(self.v, (g*g for g in gradients), self.β2)\n",
    "\n",
    "        updates = [-αt * mi / (np.sqrt(vi) + self.ϵ) for mi, vi in zip(self.m, self.v)]\n",
    "        for upd in updates:\n",
    "            assert np.isfinite(upd).all()\n",
    "        return updates\n",
    "    \n",
    "def trainer(Ws, X, Y, optimizer, batch_size=50, keep_prob=1):    \n",
    "    nsamples = X.shape[0]\n",
    "    batch = 0\n",
    "    while True:\n",
    "        # get next batch\n",
    "        start = (batch * batch_size) % nsamples\n",
    "        stop = start + batch_size\n",
    "        batch_idx = range(start, stop)\n",
    "        X_, Y_ = X[batch_idx, :], Y[batch_idx, :]\n",
    "        \n",
    "        gradients = back_propagation(Ws, X_, Y_, keep_prob=keep_prob) # calculate gradients\n",
    "        \n",
    "        ΔWs = optimizer.send(gradients) # calculate updates\n",
    "        \n",
    "        for W, ΔW in zip(Ws, ΔWs): # apply updates\n",
    "            W += ΔW\n",
    "            \n",
    "        batch += 1\n",
    "        yield batch"
   ]
  },
  {
   "cell_type": "markdown",
   "metadata": {},
   "source": [
    "# Ex 1\n",
    "\n",
    "Let's load the data for MNIST digits."
   ]
  },
  {
   "cell_type": "code",
   "execution_count": 3,
   "metadata": {},
   "outputs": [],
   "source": [
    "(X_train, Y_train), (X_test, Y_test) = keras.datasets.mnist.load_data()\n",
    "nsamples, width, height = X_train.shape\n",
    "nfeatures = width * height\n",
    "X_train = X_train.reshape(nsamples, nfeatures)\n",
    "X_test = X_test.reshape(-1, nfeatures)\n",
    "Y_train = keras.utils.to_categorical(Y_train)\n",
    "Y_test = keras.utils.to_categorical(Y_test)\n",
    "ncats = Y_test.shape[1]"
   ]
  },
  {
   "cell_type": "markdown",
   "metadata": {},
   "source": [
    "**Implement `feed_forward` and `back_propagation` from the FFN lecture using a `for` loop so that they work for any number of hidden layers.**\n",
    "\n",
    "Notes: \n",
    "- when implementing `back_propagation`, you can use the `gradient_check` function (from `A5.py`) to test that it works as expected.\n",
    "- please keep the functions signatures as supplied."
   ]
  },
  {
   "cell_type": "code",
   "execution_count": 4,
   "metadata": {},
   "outputs": [],
   "source": [
    "def feed_forward(Ws, X, keep_prob=1): ###\n",
    "    layers = [X] # input layer\n",
    "    for i, W in enumerate(Ws):\n",
    "        X = X @ W \n",
    "        layers.append(X)\n",
    "        if i < len(Ws) - 1:\n",
    "            # hidden layer\n",
    "            if keep_prob < 1:\n",
    "                X = drop(X, keep_prob=keep_prob)\n",
    "            X = ReLU(X) \n",
    "        else:\n",
    "            # readout layer\n",
    "            X = softmax(X) \n",
    "        layers.append(X)\n",
    "    return layers"
   ]
  },
  {
   "cell_type": "code",
   "execution_count": 5,
   "metadata": {},
   "outputs": [],
   "source": [
    "def back_propagation(Ws, X, Y, keep_prob=1): ###\n",
    "    layers = feed_forward(Ws, X, keep_prob=keep_prob) # X1, Z1, X2, Z2, Yhat\n",
    "    gradients = []\n",
    "    \n",
    "    for i in range(len(Ws)):\n",
    "        Z = layers.pop()\n",
    "        if i == 0:\n",
    "            # readout layer, Z=Yhat\n",
    "            δ = Z - Y\n",
    "            layers.pop()\n",
    "        else:\n",
    "            # hidden layers, Z = X @ W\n",
    "            W = Ws[-i]\n",
    "            δ = (δ @ W.T) * dReLU(Z) # δ = δ * W * ReLU(Z)\n",
    "        X = layers.pop()\n",
    "        dW = X.T @ δ # dC/dW = δ * X\n",
    "        gradients.append(dW)\n",
    "    \n",
    "    gradients.reverse()\n",
    "    # sanity checks\n",
    "    assert len(gradients) == len(Ws), (len(gradients), len(Ws))\n",
    "    for dW, W in zip(gradients, Ws):\n",
    "        assert dW.shape == W.shape, (dW.shape, W.shape)\n",
    "    return gradients"
   ]
  },
  {
   "cell_type": "markdown",
   "metadata": {},
   "source": [
    "Now **train the FFN model** with 2 or more hidden layers, and print its accuracy on the test set."
   ]
  },
  {
   "cell_type": "code",
   "execution_count": 6,
   "metadata": {},
   "outputs": [],
   "source": [
    "W1 = fully_connected(nfeatures, 50)\n",
    "W2 = fully_connected(50, 20)\n",
    "W3 = fully_connected(20, ncats)\n",
    "Ws = [W1, W2, W3]\n",
    "\n",
    "train = trainer(Ws, X_train, Y_train, optimizer=AdamOptimizer())"
   ]
  },
  {
   "cell_type": "code",
   "execution_count": 7,
   "metadata": {},
   "outputs": [
    {
     "name": "stdout",
     "output_type": "stream",
     "text": [
      "Accuracy: 0.1243\n"
     ]
    }
   ],
   "source": [
    "acc = accuracy(predict(Ws, X_test), Y_test)\n",
    "print(\"Accuracy: {:.4f}\".format(acc))"
   ]
  },
  {
   "cell_type": "code",
   "execution_count": 8,
   "metadata": {},
   "outputs": [
    {
     "name": "stdout",
     "output_type": "stream",
     "text": [
      "Accuracy (12000): 0.9384\n",
      "CPU times: user 30.3 s, sys: 355 ms, total: 30.7 s\n",
      "Wall time: 7.69 s\n"
     ]
    }
   ],
   "source": [
    "%%time\n",
    "for batch in train:\n",
    "    if batch == 10 * nsamples // 50: break\n",
    "\n",
    "acc = accuracy(predict(Ws, X_test), Y_test)\n",
    "print(\"Accuracy ({:d}): {:.4f}\".format(batch, acc))"
   ]
  },
  {
   "cell_type": "markdown",
   "metadata": {},
   "source": [
    "# Ex 2\n",
    "\n",
    "## Keras\n",
    "\n",
    "[Keras](https://keras.io/) is a high-level neural networks API, written in Python and capable of running on top of TensorFlow, [CNTK](https://docs.microsoft.com/en-us/cognitive-toolkit/) (MS deep learning package), or [Theano](http://www.deeplearning.net/software/theano/).\n",
    "\n",
    "The main benefit is that it *allows for easy and fast prototyping*.\n",
    "\n",
    "Since version 1.4 of TensorFlow, Keras is installed with TensorFlow as a high-level interface to TensorFlow.\n",
    "\n",
    "## Fashion-MNIST datasetset\n",
    "\n",
    "The Fashion-MNIST dataset contains 60,000 28x28 grayscale images of 10 fashion categories, along with a test set of 10,000 images. This dataset can be used as a drop-in replacement for MNIST. The class labels are:\n",
    "\n",
    "\n",
    "| Label |\tDescription|\n",
    "|---|------------------|\n",
    "| 0 |\tT-shirt/top    |\n",
    "| 1 |\tTrouser        |\n",
    "| 2 |\tPullover       |\n",
    "| 3 |\tDress          |\n",
    "| 4 |\tCoat           |\n",
    "| 5 |\tSandal         |\n",
    "| 6 |\tShirt          |\n",
    "| 7 |\tSneaker        |\n",
    "| 8 |\tBag            |\n",
    "| 9 |\tAnkle boot     |\n",
    "\n",
    "See more information on this dataset in the [keras docs](https://keras.io/datasets/).\n",
    "\n",
    "In this exercise we will use Keras to train a neural network on the dataset. "
   ]
  },
  {
   "cell_type": "code",
   "execution_count": 9,
   "metadata": {},
   "outputs": [
    {
     "name": "stderr",
     "output_type": "stream",
     "text": [
      "Using TensorFlow backend.\n"
     ]
    },
    {
     "name": "stdout",
     "output_type": "stream",
     "text": [
      "Keras 2.3.1\n",
      "WARNING:tensorflow:From <ipython-input-9-cd02cde25769>:11: is_gpu_available (from tensorflow.python.framework.test_util) is deprecated and will be removed in a future version.\n",
      "Instructions for updating:\n",
      "Use `tf.config.list_physical_devices('GPU')` instead.\n",
      "GPU: True\n",
      "/device:GPU:0\n"
     ]
    }
   ],
   "source": [
    "%matplotlib inline\n",
    "import matplotlib.pyplot as plt\n",
    "import numpy as np\n",
    "\n",
    "import tensorflow as tf\n",
    "try:\n",
    "    import keras\n",
    "except ModuleNotFoundError:\n",
    "    from tensorflow import keras\n",
    "print('Keras', keras.__version__)\n",
    "print('GPU:', tf.test.is_gpu_available())\n",
    "print(tf.test.gpu_device_name())"
   ]
  },
  {
   "cell_type": "code",
   "execution_count": 10,
   "metadata": {},
   "outputs": [
    {
     "name": "stdout",
     "output_type": "stream",
     "text": [
      "Downloading data from https://storage.googleapis.com/tensorflow/tf-keras-datasets/train-labels-idx1-ubyte.gz\n",
      "32768/29515 [=================================] - 0s 3us/step\n",
      "Downloading data from https://storage.googleapis.com/tensorflow/tf-keras-datasets/train-images-idx3-ubyte.gz\n",
      "26427392/26421880 [==============================] - 4s 0us/step\n",
      "Downloading data from https://storage.googleapis.com/tensorflow/tf-keras-datasets/t10k-labels-idx1-ubyte.gz\n",
      "8192/5148 [===============================================] - 0s 0us/step\n",
      "Downloading data from https://storage.googleapis.com/tensorflow/tf-keras-datasets/t10k-images-idx3-ubyte.gz\n",
      "4423680/4422102 [==============================] - 1s 0us/step\n"
     ]
    }
   ],
   "source": [
    "###\n",
    "from tensorflow.keras.datasets import fashion_mnist\n",
    "(x_train, y_train), (x_test, y_test) = fashion_mnist.load_data()"
   ]
  },
  {
   "cell_type": "markdown",
   "metadata": {},
   "source": [
    "We need to convert the images to a float32 between 0 and 1 and reshape to 28x28x1 (only one channel for black and white) because 2D convolutions expect 3D images (3rd dimension is channel or image).\n",
    "\n",
    "We also need to one-hot encode the labels, and to scale the data from 0-255 to 0-1."
   ]
  },
  {
   "cell_type": "code",
   "execution_count": 11,
   "metadata": {},
   "outputs": [],
   "source": [
    "###\n",
    "x_train = x_train.astype('float32')\n",
    "x_test = x_test.astype('float32')\n",
    "x_train /= 255\n",
    "x_test /= 255\n",
    "x_train = x_train.reshape((-1, 28, 28, 1))\n",
    "x_test = x_test.reshape((-1, 28, 28, 1))\n",
    "num_classes = len(np.unique(y_train))\n",
    "y_train = keras.utils.to_categorical(y_train, num_classes)\n",
    "y_test = keras.utils.to_categorical(y_test, num_classes)"
   ]
  },
  {
   "cell_type": "markdown",
   "metadata": {},
   "source": [
    "Let's see the images."
   ]
  },
  {
   "cell_type": "code",
   "execution_count": 12,
   "metadata": {},
   "outputs": [
    {
     "name": "stdout",
     "output_type": "stream",
     "text": [
      "[0. 0. 1. 0. 0. 0. 0. 0. 0. 0.]\n"
     ]
    },
    {
     "data": {
      "image/png": "[encoded data removed]",
      "text/plain": [
       "<Figure size 144x144 with 1 Axes>"
      ]
     },
     "metadata": {},
     "output_type": "display_data"
    }
   ],
   "source": [
    "###\n",
    "i = np.random.randint(0, x_train.shape[0])\n",
    "plt.figure(figsize=(2,2))\n",
    "plt.imshow(x_train[i, :, :, 0], cmap='gray_r')\n",
    "plt.xticks([]); plt.yticks([])\n",
    "print(y_train[i])"
   ]
  },
  {
   "cell_type": "markdown",
   "metadata": {},
   "source": [
    "## Using Keras\n",
    "\n",
    "A Keras model can be built by defining the model layers, then giving them to the `Sequential` model object.\n",
    "You could also first create the model object and the use its `add` method to add layers.\n",
    "\n",
    "A `Dense` layer uses matrix muliplication. We need to provide it with the number of outputs, in this case the number of categories, and the activation function, in this case the softmax function.\n",
    "\n",
    "A `Flatten` layer just flatten the input data - turns it into a 1D array.\n",
    "The first layer always has to be told the shape of the input (`X`) using `input_shape`.\n",
    "\n",
    "```python\n",
    "layers = [\n",
    "    keras.layers.LayerName(arguments),\n",
    "    ...\n",
    "]\n",
    "model = keras.models.Sequential(layers)\n",
    "```\n",
    "\n",
    "After defining the network, we can print a summary using `model.summary()`.\n",
    "Then, we need to compile the Keras model (which creates the underlying TensorFlow network) and configuring it for training.\n",
    "At this stage we can choose the [loss function](https://keras.io/api/losses/), the [optimizer](https://keras.io/api/optimizers/), and additional [metrics](https://keras.io/api/metrics/) we with to collect, such as accuracy.\n",
    "\n",
    "```python\n",
    "model.compile(\n",
    "    loss=...,\n",
    "    optimizer=...,\n",
    "    metrics=[...]\n",
    ")\n",
    "```\n",
    "\n",
    "After compiling the network, we are ready to train it by giving it the train and test datasets:\n",
    "Training is done by calling the `fit` method of the model object\n",
    "```python\n",
    "model.fit(\n",
    "    x_train, y_train,\n",
    "    batch_size=...,\n",
    "    epochs=...,\n",
    "    validation_data=(x_test, y_test)\n",
    ")\n",
    "```\n",
    "\n",
    "The `fit` method retuns a `history` object that can be used to plot the accuracy and loss over time (see plot below).\n",
    "\n",
    "**Build, train, and score a neural network**. \n",
    "\n",
    "You can use a feed forward network, or you can use a more sophisticated approach with a convolutional neural network (CNN). Or try both.\n",
    "As long as you reach a high enough accuracy (>80%) it is fine."
   ]
  },
  {
   "cell_type": "markdown",
   "metadata": {},
   "source": [
    "## FFN solution\n",
    "This is the same network as the NumPy version shown in class"
   ]
  },
  {
   "cell_type": "code",
   "execution_count": 13,
   "metadata": {},
   "outputs": [],
   "source": [
    "layers = [\n",
    "    keras.layers.Flatten(input_shape=(28, 28, 1)),\n",
    "    keras.layers.Dense(100),\n",
    "    keras.layers.Activation('relu'),\n",
    "    keras.layers.Dropout(rate=0.5),\n",
    "    keras.layers.Dense(num_classes),\n",
    "    keras.layers.Activation('softmax')\n",
    "]\n",
    "model = keras.models.Sequential(layers)"
   ]
  },
  {
   "cell_type": "code",
   "execution_count": 14,
   "metadata": {},
   "outputs": [
    {
     "name": "stdout",
     "output_type": "stream",
     "text": [
      "Model: \"sequential_1\"\n",
      "_________________________________________________________________\n",
      "Layer (type)                 Output Shape              Param #   \n",
      "=================================================================\n",
      "flatten_1 (Flatten)          (None, 784)               0         \n",
      "_________________________________________________________________\n",
      "dense_1 (Dense)              (None, 100)               78500     \n",
      "_________________________________________________________________\n",
      "activation_1 (Activation)    (None, 100)               0         \n",
      "_________________________________________________________________\n",
      "dropout_1 (Dropout)          (None, 100)               0         \n",
      "_________________________________________________________________\n",
      "dense_2 (Dense)              (None, 10)                1010      \n",
      "_________________________________________________________________\n",
      "activation_2 (Activation)    (None, 10)                0         \n",
      "=================================================================\n",
      "Total params: 79,510\n",
      "Trainable params: 79,510\n",
      "Non-trainable params: 0\n",
      "_________________________________________________________________\n"
     ]
    }
   ],
   "source": [
    "model.summary()"
   ]
  },
  {
   "cell_type": "code",
   "execution_count": 15,
   "metadata": {},
   "outputs": [
    {
     "name": "stdout",
     "output_type": "stream",
     "text": [
      "Train on 60000 samples, validate on 10000 samples\n",
      "Epoch 1/10\n",
      "60000/60000 [==============================] - 5s 81us/step - loss: 0.6491 - accuracy: 0.7714 - val_loss: 0.4585 - val_accuracy: 0.8342\n",
      "Epoch 2/10\n",
      "60000/60000 [==============================] - 2s 33us/step - loss: 0.4833 - accuracy: 0.8277 - val_loss: 0.4179 - val_accuracy: 0.8501\n",
      "Epoch 3/10\n",
      "60000/60000 [==============================] - 2s 33us/step - loss: 0.4470 - accuracy: 0.8380 - val_loss: 0.4054 - val_accuracy: 0.8531\n",
      "Epoch 4/10\n",
      "60000/60000 [==============================] - 2s 32us/step - loss: 0.4282 - accuracy: 0.8450 - val_loss: 0.3830 - val_accuracy: 0.8625\n",
      "Epoch 5/10\n",
      "60000/60000 [==============================] - 2s 32us/step - loss: 0.4146 - accuracy: 0.8486 - val_loss: 0.3861 - val_accuracy: 0.8582\n",
      "Epoch 6/10\n",
      "60000/60000 [==============================] - 2s 32us/step - loss: 0.4039 - accuracy: 0.8533 - val_loss: 0.3734 - val_accuracy: 0.8652\n",
      "Epoch 7/10\n",
      "60000/60000 [==============================] - 2s 32us/step - loss: 0.3947 - accuracy: 0.8560 - val_loss: 0.3703 - val_accuracy: 0.8688\n",
      "Epoch 8/10\n",
      "60000/60000 [==============================] - 2s 32us/step - loss: 0.3869 - accuracy: 0.8597 - val_loss: 0.3661 - val_accuracy: 0.8680\n",
      "Epoch 9/10\n",
      "60000/60000 [==============================] - 2s 33us/step - loss: 0.3792 - accuracy: 0.8613 - val_loss: 0.3779 - val_accuracy: 0.8662\n",
      "Epoch 10/10\n",
      "60000/60000 [==============================] - 2s 33us/step - loss: 0.3775 - accuracy: 0.8615 - val_loss: 0.3653 - val_accuracy: 0.8721\n"
     ]
    }
   ],
   "source": [
    "model.compile(loss='categorical_crossentropy',\n",
    "              optimizer='adam',\n",
    "              metrics=['accuracy'])\n",
    "\n",
    "history = model.fit(\n",
    "    x_train, y_train,\n",
    "    batch_size=50,\n",
    "    epochs=10,\n",
    "    validation_data=(x_test, y_test)\n",
    ").history"
   ]
  },
  {
   "cell_type": "code",
   "execution_count": 16,
   "metadata": {},
   "outputs": [
    {
     "name": "stdout",
     "output_type": "stream",
     "text": [
      "10000/10000 [==============================] - 0s 33us/step\n",
      "Test loss: 0.36533783659935\n",
      "Test accuracy: 0.8720999956130981\n"
     ]
    }
   ],
   "source": [
    "# Score trained model.\n",
    "loss, acc = model.evaluate(x_test, y_test, verbose=1)\n",
    "print('Test loss:', loss)\n",
    "print('Test accuracy:', acc)"
   ]
  },
  {
   "cell_type": "code",
   "execution_count": 19,
   "metadata": {},
   "outputs": [
    {
     "data": {
      "image/png": "[encoded data removed]",
      "text/plain": [
       "<Figure size 432x288 with 1 Axes>"
      ]
     },
     "metadata": {
      "needs_background": "light"
     },
     "output_type": "display_data"
    }
   ],
   "source": [
    "plt.plot(history['accuracy'], label='train')\n",
    "plt.plot(history['val_accuracy'], label='test')\n",
    "plt.xlabel('epoch')\n",
    "plt.ylabel('accuracy')\n",
    "plt.legend();"
   ]
  },
  {
   "cell_type": "markdown",
   "metadata": {},
   "source": [
    "### CNN solution\n",
    "\n",
    "When I trained a CNN I got this accuracy of X on the test set, see if you can top that."
   ]
  },
  {
   "cell_type": "code",
   "execution_count": 25,
   "metadata": {},
   "outputs": [],
   "source": [
    "layers = [\n",
    "    keras.layers.Conv2D(32, (3, 3), input_shape=(28, 28, 1)),\n",
    "    keras.layers.Activation('relu'),\n",
    "    keras.layers.MaxPooling2D(),\n",
    "\n",
    "    keras.layers.Conv2D(64, (3, 3)),\n",
    "    keras.layers.Activation('relu'),\n",
    "    keras.layers.MaxPooling2D(),\n",
    "    keras.layers.Dropout(rate=0.5),\n",
    "\n",
    "    keras.layers.Flatten(),\n",
    "    keras.layers.Dense(1024),\n",
    "    keras.layers.Activation('relu'),\n",
    "    keras.layers.Dropout(rate=0.5),\n",
    "    keras.layers.Dense(num_classes),\n",
    "    keras.layers.Activation('softmax')\n",
    "]\n",
    "model = keras.models.Sequential(layers)"
   ]
  },
  {
   "cell_type": "code",
   "execution_count": 26,
   "metadata": {},
   "outputs": [
    {
     "name": "stdout",
     "output_type": "stream",
     "text": [
      "Model: \"sequential_3\"\n",
      "_________________________________________________________________\n",
      "Layer (type)                 Output Shape              Param #   \n",
      "=================================================================\n",
      "conv2d_3 (Conv2D)            (None, 26, 26, 32)        320       \n",
      "_________________________________________________________________\n",
      "activation_7 (Activation)    (None, 26, 26, 32)        0         \n",
      "_________________________________________________________________\n",
      "max_pooling2d_3 (MaxPooling2 (None, 13, 13, 32)        0         \n",
      "_________________________________________________________________\n",
      "conv2d_4 (Conv2D)            (None, 11, 11, 64)        18496     \n",
      "_________________________________________________________________\n",
      "activation_8 (Activation)    (None, 11, 11, 64)        0         \n",
      "_________________________________________________________________\n",
      "max_pooling2d_4 (MaxPooling2 (None, 5, 5, 64)          0         \n",
      "_________________________________________________________________\n",
      "dropout_3 (Dropout)          (None, 5, 5, 64)          0         \n",
      "_________________________________________________________________\n",
      "flatten_3 (Flatten)          (None, 1600)              0         \n",
      "_________________________________________________________________\n",
      "dense_5 (Dense)              (None, 1024)              1639424   \n",
      "_________________________________________________________________\n",
      "activation_9 (Activation)    (None, 1024)              0         \n",
      "_________________________________________________________________\n",
      "dropout_4 (Dropout)          (None, 1024)              0         \n",
      "_________________________________________________________________\n",
      "dense_6 (Dense)              (None, 10)                10250     \n",
      "_________________________________________________________________\n",
      "activation_10 (Activation)   (None, 10)                0         \n",
      "=================================================================\n",
      "Total params: 1,668,490\n",
      "Trainable params: 1,668,490\n",
      "Non-trainable params: 0\n",
      "_________________________________________________________________\n"
     ]
    }
   ],
   "source": [
    "model.summary()"
   ]
  },
  {
   "cell_type": "code",
   "execution_count": 30,
   "metadata": {},
   "outputs": [
    {
     "name": "stdout",
     "output_type": "stream",
     "text": [
      "Train on 60000 samples, validate on 10000 samples\n",
      "Epoch 1/50\n",
      "60000/60000 [==============================] - 6s 97us/step - loss: 0.2196 - accuracy: 0.9174 - val_loss: 0.2270 - val_accuracy: 0.9172\n",
      "Epoch 2/50\n",
      "60000/60000 [==============================] - 5s 91us/step - loss: 0.2116 - accuracy: 0.9201 - val_loss: 0.2248 - val_accuracy: 0.9169\n",
      "Epoch 3/50\n",
      "60000/60000 [==============================] - 6s 95us/step - loss: 0.2067 - accuracy: 0.9221 - val_loss: 0.2205 - val_accuracy: 0.9192\n",
      "Epoch 4/50\n",
      "60000/60000 [==============================] - 6s 100us/step - loss: 0.2005 - accuracy: 0.9250 - val_loss: 0.2215 - val_accuracy: 0.9193\n",
      "Epoch 5/50\n",
      "60000/60000 [==============================] - 6s 96us/step - loss: 0.1971 - accuracy: 0.9262 - val_loss: 0.2277 - val_accuracy: 0.9185\n",
      "Epoch 6/50\n",
      "60000/60000 [==============================] - 6s 94us/step - loss: 0.1964 - accuracy: 0.9265 - val_loss: 0.2332 - val_accuracy: 0.9168\n",
      "Epoch 7/50\n",
      "60000/60000 [==============================] - 6s 95us/step - loss: 0.1898 - accuracy: 0.9291 - val_loss: 0.2290 - val_accuracy: 0.9185\n",
      "Epoch 8/50\n",
      "60000/60000 [==============================] - 6s 95us/step - loss: 0.1832 - accuracy: 0.9308 - val_loss: 0.2277 - val_accuracy: 0.9159\n",
      "Epoch 9/50\n",
      "60000/60000 [==============================] - 6s 95us/step - loss: 0.1795 - accuracy: 0.9322 - val_loss: 0.2313 - val_accuracy: 0.9163\n",
      "Epoch 10/50\n",
      "60000/60000 [==============================] - 6s 96us/step - loss: 0.1775 - accuracy: 0.9331 - val_loss: 0.2268 - val_accuracy: 0.9175\n",
      "Epoch 11/50\n",
      "60000/60000 [==============================] - 6s 99us/step - loss: 0.1751 - accuracy: 0.9342 - val_loss: 0.2159 - val_accuracy: 0.9236\n",
      "Epoch 12/50\n",
      "60000/60000 [==============================] - 6s 98us/step - loss: 0.1701 - accuracy: 0.9363 - val_loss: 0.2179 - val_accuracy: 0.9194\n",
      "Epoch 13/50\n",
      "60000/60000 [==============================] - 6s 97us/step - loss: 0.1698 - accuracy: 0.9359 - val_loss: 0.2168 - val_accuracy: 0.9238\n",
      "Epoch 14/50\n",
      "60000/60000 [==============================] - 6s 97us/step - loss: 0.1645 - accuracy: 0.9381 - val_loss: 0.2221 - val_accuracy: 0.9191\n",
      "Epoch 15/50\n",
      "60000/60000 [==============================] - 6s 96us/step - loss: 0.1639 - accuracy: 0.9380 - val_loss: 0.2310 - val_accuracy: 0.9201\n",
      "Epoch 16/50\n",
      "60000/60000 [==============================] - 6s 95us/step - loss: 0.1611 - accuracy: 0.9392 - val_loss: 0.2199 - val_accuracy: 0.9234\n",
      "Epoch 17/50\n",
      "60000/60000 [==============================] - 6s 99us/step - loss: 0.1564 - accuracy: 0.9413 - val_loss: 0.2248 - val_accuracy: 0.9208\n",
      "Epoch 18/50\n",
      "60000/60000 [==============================] - 6s 99us/step - loss: 0.1561 - accuracy: 0.9422 - val_loss: 0.2211 - val_accuracy: 0.9236\n",
      "Epoch 19/50\n",
      "60000/60000 [==============================] - 6s 100us/step - loss: 0.1567 - accuracy: 0.9408 - val_loss: 0.2158 - val_accuracy: 0.9244\n",
      "Epoch 20/50\n",
      "60000/60000 [==============================] - 6s 99us/step - loss: 0.1527 - accuracy: 0.9428 - val_loss: 0.2188 - val_accuracy: 0.9238\n",
      "Epoch 21/50\n",
      "60000/60000 [==============================] - 6s 99us/step - loss: 0.1495 - accuracy: 0.9436 - val_loss: 0.2314 - val_accuracy: 0.9177\n",
      "Epoch 22/50\n",
      "60000/60000 [==============================] - 6s 99us/step - loss: 0.1495 - accuracy: 0.9437 - val_loss: 0.2241 - val_accuracy: 0.9232\n",
      "Epoch 23/50\n",
      "60000/60000 [==============================] - 6s 100us/step - loss: 0.1459 - accuracy: 0.9454 - val_loss: 0.2323 - val_accuracy: 0.9212\n",
      "Epoch 24/50\n",
      "60000/60000 [==============================] - 6s 100us/step - loss: 0.1398 - accuracy: 0.9488 - val_loss: 0.2259 - val_accuracy: 0.9200\n",
      "Epoch 25/50\n",
      "60000/60000 [==============================] - 6s 96us/step - loss: 0.1425 - accuracy: 0.9462 - val_loss: 0.2310 - val_accuracy: 0.9199\n",
      "Epoch 26/50\n",
      "60000/60000 [==============================] - 6s 95us/step - loss: 0.1434 - accuracy: 0.9469 - val_loss: 0.2302 - val_accuracy: 0.9210\n",
      "Epoch 27/50\n",
      "60000/60000 [==============================] - 6s 97us/step - loss: 0.1396 - accuracy: 0.9470 - val_loss: 0.2331 - val_accuracy: 0.9209\n",
      "Epoch 28/50\n",
      "60000/60000 [==============================] - 6s 97us/step - loss: 0.1382 - accuracy: 0.9492 - val_loss: 0.2299 - val_accuracy: 0.9240\n",
      "Epoch 29/50\n",
      "60000/60000 [==============================] - 6s 97us/step - loss: 0.1362 - accuracy: 0.9499 - val_loss: 0.2342 - val_accuracy: 0.9196\n",
      "Epoch 30/50\n",
      "60000/60000 [==============================] - 6s 97us/step - loss: 0.1360 - accuracy: 0.9490 - val_loss: 0.2298 - val_accuracy: 0.9198\n",
      "Epoch 31/50\n",
      "60000/60000 [==============================] - 6s 94us/step - loss: 0.1315 - accuracy: 0.9506 - val_loss: 0.2380 - val_accuracy: 0.9203\n",
      "Epoch 32/50\n",
      "60000/60000 [==============================] - 6s 97us/step - loss: 0.1325 - accuracy: 0.9500 - val_loss: 0.2340 - val_accuracy: 0.9240\n",
      "Epoch 33/50\n",
      "60000/60000 [==============================] - 6s 97us/step - loss: 0.1324 - accuracy: 0.9505 - val_loss: 0.2375 - val_accuracy: 0.9210\n",
      "Epoch 34/50\n",
      "60000/60000 [==============================] - 6s 96us/step - loss: 0.1287 - accuracy: 0.9511 - val_loss: 0.2324 - val_accuracy: 0.9231\n",
      "Epoch 35/50\n",
      "60000/60000 [==============================] - 6s 97us/step - loss: 0.1294 - accuracy: 0.9523 - val_loss: 0.2275 - val_accuracy: 0.9241\n",
      "Epoch 36/50\n",
      "60000/60000 [==============================] - 6s 99us/step - loss: 0.1246 - accuracy: 0.9542 - val_loss: 0.2309 - val_accuracy: 0.9236\n",
      "Epoch 37/50\n",
      "60000/60000 [==============================] - 6s 98us/step - loss: 0.1264 - accuracy: 0.9530 - val_loss: 0.2280 - val_accuracy: 0.9232\n",
      "Epoch 38/50\n",
      "60000/60000 [==============================] - 6s 98us/step - loss: 0.1249 - accuracy: 0.9537 - val_loss: 0.2273 - val_accuracy: 0.9267\n",
      "Epoch 39/50\n",
      "60000/60000 [==============================] - 6s 98us/step - loss: 0.1241 - accuracy: 0.9548 - val_loss: 0.2268 - val_accuracy: 0.9245\n",
      "Epoch 40/50\n",
      "60000/60000 [==============================] - 6s 98us/step - loss: 0.1208 - accuracy: 0.9557 - val_loss: 0.2350 - val_accuracy: 0.9240\n",
      "Epoch 41/50\n",
      "60000/60000 [==============================] - 6s 98us/step - loss: 0.1255 - accuracy: 0.9547 - val_loss: 0.2284 - val_accuracy: 0.9241\n",
      "Epoch 42/50\n",
      "60000/60000 [==============================] - 6s 98us/step - loss: 0.1233 - accuracy: 0.9545 - val_loss: 0.2302 - val_accuracy: 0.9234\n",
      "Epoch 43/50\n",
      "60000/60000 [==============================] - 6s 98us/step - loss: 0.1244 - accuracy: 0.9538 - val_loss: 0.2331 - val_accuracy: 0.9257\n",
      "Epoch 44/50\n",
      "60000/60000 [==============================] - 6s 98us/step - loss: 0.1170 - accuracy: 0.9574 - val_loss: 0.2396 - val_accuracy: 0.9231\n",
      "Epoch 45/50\n",
      "60000/60000 [==============================] - 6s 98us/step - loss: 0.1221 - accuracy: 0.9553 - val_loss: 0.2447 - val_accuracy: 0.9256\n",
      "Epoch 46/50\n",
      "60000/60000 [==============================] - 6s 94us/step - loss: 0.1173 - accuracy: 0.9567 - val_loss: 0.2409 - val_accuracy: 0.9216\n",
      "Epoch 47/50\n",
      "60000/60000 [==============================] - 6s 92us/step - loss: 0.1188 - accuracy: 0.9563 - val_loss: 0.2325 - val_accuracy: 0.9268\n",
      "Epoch 48/50\n",
      "60000/60000 [==============================] - 6s 96us/step - loss: 0.1190 - accuracy: 0.9559 - val_loss: 0.2414 - val_accuracy: 0.9206\n",
      "Epoch 49/50\n",
      "60000/60000 [==============================] - 6s 97us/step - loss: 0.1154 - accuracy: 0.9578 - val_loss: 0.2450 - val_accuracy: 0.9263\n",
      "Epoch 50/50\n",
      "60000/60000 [==============================] - 6s 97us/step - loss: 0.1144 - accuracy: 0.9577 - val_loss: 0.2536 - val_accuracy: 0.9211\n"
     ]
    }
   ],
   "source": [
    "# # initiate RMSprop optimizer\n",
    "# opt = keras.optimizers.rmsprop(lr=0.0001, decay=1e-6)\n",
    "\n",
    "# Let's train the model using RMSprop\n",
    "model.compile(loss='categorical_crossentropy',\n",
    "              optimizer='adam',\n",
    "              metrics=['accuracy'])\n",
    "\n",
    "history = model.fit(\n",
    "    x_train, y_train,\n",
    "    batch_size=50,\n",
    "    epochs=50,\n",
    "    validation_data=(x_test, y_test)\n",
    ").history"
   ]
  },
  {
   "cell_type": "code",
   "execution_count": 31,
   "metadata": {},
   "outputs": [
    {
     "name": "stdout",
     "output_type": "stream",
     "text": [
      "10000/10000 [==============================] - 0s 38us/step\n",
      "Test loss: 0.2535962067604065\n",
      "Test accuracy: 0.9211000204086304\n"
     ]
    }
   ],
   "source": [
    "# score trained model\n",
    "loss, acc = model.evaluate(x_test, y_test, verbose=1)\n",
    "print('Test loss:', loss)\n",
    "print('Test accuracy:', acc)"
   ]
  },
  {
   "cell_type": "code",
   "execution_count": 32,
   "metadata": {},
   "outputs": [
    {
     "data": {
      "image/png": "[encoded data removed]",
      "text/plain": [
       "<Figure size 432x288 with 1 Axes>"
      ]
     },
     "metadata": {
      "needs_background": "light"
     },
     "output_type": "display_data"
    }
   ],
   "source": [
    "plt.plot(history['accuracy'], label='train')\n",
    "plt.plot(history['val_accuracy'], label='test')\n",
    "plt.xlabel('epoch')\n",
    "plt.ylabel('accuracy')\n",
    "plt.legend();"
   ]
  },
  {
   "cell_type": "markdown",
   "metadata": {},
   "source": [
    "**end of assignment**"
   ]
  }
 ],
 "metadata": {
  "kernelspec": {
   "display_name": "Python [conda env:SciComPy]",
   "language": "python",
   "name": "conda-env-SciComPy-py"
  },
  "language_info": {
   "codemirror_mode": {
    "name": "ipython",
    "version": 3
   },
   "file_extension": ".py",
   "mimetype": "text/x-python",
   "name": "python",
   "nbconvert_exporter": "python",
   "pygments_lexer": "ipython3",
   "version": "3.7.6"
  }
 },
 "nbformat": 4,
 "nbformat_minor": 4
}
